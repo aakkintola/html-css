{
  "nbformat": 4,
  "nbformat_minor": 0,
  "metadata": {
    "colab": {
      "name": "8-adding-css-attributes.ipynb",
      "version": "0.3.2",
      "provenance": []
    },
    "kernelspec": {
      "name": "python3",
      "display_name": "Python 3"
    }
  },
  "cells": [
    {
      "metadata": {
        "id": "HVUJSl-Zg2MQ",
        "colab_type": "text"
      },
      "cell_type": "markdown",
      "source": [
        "# Working With CSS - Adding CSS Attributes"
      ]
    },
    {
      "metadata": {
        "id": "Re9NAkaRhAlh",
        "colab_type": "text"
      },
      "cell_type": "markdown",
      "source": [
        "## Assigning Attributes\n",
        "\n",
        "\n",
        "Once we get into the world of CSS, there are lots of options available to us, even just on fonts.  \n",
        "\n",
        "Click through the CSS demo [here](https://developer.mozilla.org/en-US/docs/Web/CSS/font) to see all of the different ways that we can change fonts.  Here we'll place the first one below."
      ]
    },
    {
      "metadata": {
        "id": "PGGSWcGMf91r",
        "colab_type": "code",
        "cellView": "form",
        "outputId": "fcd05ef5-5702-4bd1-ea71-cb20217d294c",
        "colab": {
          "base_uri": "https://localhost:8080/",
          "height": 437
        }
      },
      "cell_type": "code",
      "source": [
        "#@title\n",
        "\n",
        "import IPython\n",
        "\n",
        "iframe = \"\"\"<!-- Copy and Paste Me -->\n",
        "<div class=\"glitch-embed-wrap\" style=\"height: 420px; width: 100%;\">\n",
        "  <iframe\n",
        "    allow=\"geolocation; microphone; camera; midi; encrypted-media\"\n",
        "    src=\"https://glitch.com/embed/#!/embed/beryl-print?path=index.html&previewSize=33\"\n",
        "    alt=\"beryl-print on Glitch\"\n",
        "    style=\"height: 100%; width: 100%; border: 0;\">\n",
        "  </iframe>\n",
        "</div>\"\"\"\n",
        "\n",
        "IPython.display.HTML(iframe)"
      ],
      "execution_count": 0,
      "outputs": [
        {
          "output_type": "execute_result",
          "data": {
            "text/html": [
              "<!-- Copy and Paste Me -->\n",
              "<div class=\"glitch-embed-wrap\" style=\"height: 420px; width: 100%;\">\n",
              "  <iframe\n",
              "    allow=\"geolocation; microphone; camera; midi; encrypted-media\"\n",
              "    src=\"https://glitch.com/embed/#!/embed/beryl-print?path=index.html&previewSize=33\"\n",
              "    alt=\"beryl-print on Glitch\"\n",
              "    style=\"height: 100%; width: 100%; border: 0;\">\n",
              "  </iframe>\n",
              "</div>"
            ],
            "text/plain": [
              "<IPython.core.display.HTML object>"
            ]
          },
          "metadata": {
            "tags": []
          },
          "execution_count": 3
        }
      ]
    },
    {
      "metadata": {
        "id": "KHdd7UbRgCQX",
        "colab_type": "text"
      },
      "cell_type": "markdown",
      "source": [
        "Just by looking at the code, hopefully you can get a sense of what it's doing.   Try changing some of the code.  The first part is the font-size, the second part is the font style, and the last is best seen by removing it and seeing what happens.  "
      ]
    },
    {
      "metadata": {
        "id": "83mlFik9jRyB",
        "colab_type": "text"
      },
      "cell_type": "markdown",
      "source": [
        "## Becoming Self-Taught\n",
        "\n",
        "The main skill with learning HTML attributes is not to learn all of them: there's simply too many.  Instead, it's to be able to see examples and try them out on your own.  Where can you find examples?  Well one place is in the [documentation for CSS](https://developer.mozilla.org/en-US/docs/Web/CSS).  Another way, is again by inspecting websites.\n",
        "\n",
        "Let's take a look at our web inspector again:\n",
        "\n",
        "![](http://jkatzy.com/wp-content/uploads/2017/10/CSS-Inspector-587x483.png)"
      ]
    },
    {
      "metadata": {
        "id": "MV_ncV3vkTE2",
        "colab_type": "text"
      },
      "cell_type": "markdown",
      "source": [
        "Take a look at all of the attributes.  It's possible to check and uncheck these attributes to see what each of these do."
      ]
    },
    {
      "metadata": {
        "id": "ElevTA_HkccH",
        "colab_type": "text"
      },
      "cell_type": "markdown",
      "source": [
        "## Linking to an external stylesheet"
      ]
    },
    {
      "metadata": {
        "id": "rStVFX6Gml9X",
        "colab_type": "text"
      },
      "cell_type": "markdown",
      "source": [
        "So far we have been adding our styles directly in the HTML file with the `<style>` tag.  \n",
        "\n",
        "However, generally developers like to separate out the CSS from the HTML.  The way to do that is to write the CSS in a separate file, and then link to that file from the HTML.  \n",
        "\n",
        "\n",
        "\n",
        "In the file below you can see that we have a new file called styles.css.  If you click on it, you can see we have some CSS inside of there.  Press the play button, and you will see that the styles in that `styles.css` file are applied.  This happens because of this line:\n",
        "\n",
        "```html\n",
        "<link href=\"styles.css\" rel=\"stylesheet\" type=\"text/css\" />\n",
        "\n",
        "```\n",
        "\n",
        "That line is equivalent to copying and pasting the code in the styles.css file into some `<style>` tags directly in our HTML."
      ]
    },
    {
      "metadata": {
        "id": "gd1ZHU1RlGJR",
        "colab_type": "code",
        "cellView": "form",
        "outputId": "bd7826de-6efd-47d7-ade8-a49424174411",
        "colab": {
          "base_uri": "https://localhost:8080/",
          "height": 437
        }
      },
      "cell_type": "code",
      "source": [
        "#@title\n",
        "\n",
        "import IPython\n",
        "\n",
        "iframe =\"\"\" <!-- Copy and Paste Me -->\n",
        "<div class=\"glitch-embed-wrap\" style=\"height: 420px; width: 100%;\">\n",
        "  <iframe\n",
        "    allow=\"geolocation; microphone; camera; midi; encrypted-media\"\n",
        "    src=\"https://glitch.com/embed/#!/embed/great-headlight?path=index.html&previewSize=33\"\n",
        "    alt=\"great-headlight on Glitch\"\n",
        "    style=\"height: 100%; width: 100%; border: 0;\">\n",
        "  </iframe>\n",
        "</div>\"\"\"\n",
        "\n",
        "IPython.display.HTML(iframe)"
      ],
      "execution_count": 0,
      "outputs": [
        {
          "output_type": "execute_result",
          "data": {
            "text/html": [
              " <!-- Copy and Paste Me -->\n",
              "<div class=\"glitch-embed-wrap\" style=\"height: 420px; width: 100%;\">\n",
              "  <iframe\n",
              "    allow=\"geolocation; microphone; camera; midi; encrypted-media\"\n",
              "    src=\"https://glitch.com/embed/#!/embed/great-headlight?path=index.html&previewSize=33\"\n",
              "    alt=\"great-headlight on Glitch\"\n",
              "    style=\"height: 100%; width: 100%; border: 0;\">\n",
              "  </iframe>\n",
              "</div>"
            ],
            "text/plain": [
              "<IPython.core.display.HTML object>"
            ]
          },
          "metadata": {
            "tags": []
          },
          "execution_count": 4
        }
      ]
    }
  ]
}