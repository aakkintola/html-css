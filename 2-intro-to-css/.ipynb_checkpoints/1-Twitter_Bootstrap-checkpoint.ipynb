{
 "cells": [
  {
   "cell_type": "markdown",
   "metadata": {
    "colab_type": "text",
    "id": "jwBiWsaVMvxI"
   },
   "source": [
    "# Working With a CSS Library"
   ]
  },
  {
   "cell_type": "markdown",
   "metadata": {
    "colab_type": "text",
    "id": "qkA0IXgbMVyT",
    "tags": []
   },
   "source": [
    "## Should it be so hard?\n",
    "\n",
    "Now it seems like a lot of work to write out rules about how our `h1` tags should look -- they're size, the boldness, the exact font.  And of course, we would have to do the same for all of our elements.  And then we have to write rules for various CSS classes as well.  \n",
    "\n",
    "It would be great if someone got us started on some of this work.  It would be great if we had these CSS rules already written out, and then we could always override and change them to make our site unique.  \n",
    "\n",
    "Well these CSS rules do exist.  In fact, [click here](https://stackpath.bootstrapcdn.com/bootstrap/4.2.1/css/bootstrap.min.css), and you'll see them.  Scroll down.  That's a lot of CSS.  \n",
    "\n",
    "## Using a library\n",
    "\n",
    "Now, to have those rules apply, simply go to the line in the text editor below that says `<link rel=\"stylesheet\" href=\"\">`.  And where it says `href=\"\"` paste the web address below in the middle of those quotes: \n",
    "\n",
    "`https://stackpath.bootstrapcdn.com/bootstrap/4.2.1/css/bootstrap.min.css`\n",
    "\n",
    "Your HTML link tag should look like the following when you're done. \n",
    "\n",
    "```html \n",
    "<link rel=\"stylesheet\" href=\"https://stackpath.bootstrapcdn.com/bootstrap/4.2.1/css/bootstrap.min.css\n",
    "\">\n",
    "```\n",
    "Give it a shot below and see if you're able to change your webpage!\n"
   ]
  },
  {
   "cell_type": "code",
   "execution_count": 1,
   "metadata": {
    "cellView": "form",
    "colab": {
     "base_uri": "https://localhost:8080/",
     "height": 437
    },
    "colab_type": "code",
    "id": "Y3vxkWPxMuL5",
    "outputId": "21741bb8-534c-4aea-cdec-18e5c85856c4"
   },
   "outputs": [
    {
     "data": {
      "text/html": [
       "<!-- Copy and Paste Me -->\n",
       "<div class=\"glitch-embed-wrap\" style=\"height: 420px; width: 100%;\">\n",
       "  <iframe\n",
       "    allow=\"geolocation; microphone; camera; midi; encrypted-media\"\n",
       "    src=\"https://glitch.com/embed/#!/embed/fire-math?path=index.html&previewSize=33\"\n",
       "    alt=\"fire-math on Glitch\"\n",
       "    style=\"height: 100%; width: 100%; border: 0;\">\n",
       "  </iframe>\n",
       "</div>"
      ],
      "text/plain": [
       "<IPython.core.display.HTML object>"
      ]
     },
     "execution_count": 1,
     "metadata": {},
     "output_type": "execute_result"
    }
   ],
   "source": [
    "#@title\n",
    "\n",
    "import IPython\n",
    "\n",
    "iframe = \"\"\"<!-- Copy and Paste Me -->\n",
    "<div class=\"glitch-embed-wrap\" style=\"height: 420px; width: 100%;\">\n",
    "  <iframe\n",
    "    allow=\"geolocation; microphone; camera; midi; encrypted-media\"\n",
    "    src=\"https://glitch.com/embed/#!/embed/fire-math?path=index.html&previewSize=33\"\n",
    "    alt=\"fire-math on Glitch\"\n",
    "    style=\"height: 100%; width: 100%; border: 0;\">\n",
    "  </iframe>\n",
    "</div>\"\"\"\n",
    "\n",
    "IPython.display.HTML(iframe)"
   ]
  },
  {
   "cell_type": "markdown",
   "metadata": {
    "colab_type": "text",
    "id": "qyzvcFBvMfZk"
   },
   "source": [
    "Now the library we are using is called Twitter Bootstrap, and it's used by thousands of websites.  (And you thought developers wrote all of their code line by line.  We don't, we copy.)"
   ]
  },
  {
   "cell_type": "markdown",
   "metadata": {
    "colab_type": "text",
    "id": "rBdHUb5BMjUQ"
   },
   "source": [
    "## Applying our first Bootstrap styles\n",
    "\n",
    "It's time to use some new Bootstrap styles.  It doesn't matter which particular style we choose, so we'll start with an alert.\n",
    "\n",
    "Let's say our user just signed up to our website successfully.  We can style some text to point out his good work, by adding a class of `alert-success`.  \n",
    "\n",
    "1. Take a look at the code below in the first `p` tag.  We added the bootstrap style simply by applying the `alert-success`  .\n",
    "\n",
    "2. Now look at the second paragraph.   What is `<p class=\"alert alert-success\">`?  Well remember in CSS we add multiple classes to an element by placing a space in between each class.  Here, we are adding both the `alert` and `alert-success` class to the same element.  \n",
    "\n",
    "You can get a sense of what the `alert` class does by removing it and adding it to the second `p` tag, or really to any element.  Try it out!\n",
    "\n"
   ]
  },
  {
   "cell_type": "code",
   "execution_count": 2,
   "metadata": {
    "cellView": "form",
    "colab": {
     "base_uri": "https://localhost:8080/",
     "height": 437
    },
    "colab_type": "code",
    "id": "IIB6SKEHMexr",
    "outputId": "ab0a9b81-1f23-4374-925f-9173740cc862"
   },
   "outputs": [
    {
     "data": {
      "text/html": [
       "<!-- Copy and Paste Me -->\n",
       "<div class=\"glitch-embed-wrap\" style=\"height: 420px; width: 100%;\">\n",
       "  <iframe\n",
       "    allow=\"geolocation; microphone; camera; midi; encrypted-media\"\n",
       "    src=\"https://glitch.com/embed/#!/embed/witty-liquor?path=index.html&previewSize=33\"\n",
       "    alt=\"witty-liquor on Glitch\"\n",
       "    style=\"height: 100%; width: 100%; border: 0;\">\n",
       "  </iframe>\n",
       "</div>"
      ],
      "text/plain": [
       "<IPython.core.display.HTML object>"
      ]
     },
     "execution_count": 2,
     "metadata": {},
     "output_type": "execute_result"
    }
   ],
   "source": [
    "#@title\n",
    "\n",
    "import IPython\n",
    "\n",
    "iframe = \"\"\"<!-- Copy and Paste Me -->\n",
    "<div class=\"glitch-embed-wrap\" style=\"height: 420px; width: 100%;\">\n",
    "  <iframe\n",
    "    allow=\"geolocation; microphone; camera; midi; encrypted-media\"\n",
    "    src=\"https://glitch.com/embed/#!/embed/witty-liquor?path=index.html&previewSize=33\"\n",
    "    alt=\"witty-liquor on Glitch\"\n",
    "    style=\"height: 100%; width: 100%; border: 0;\">\n",
    "  </iframe>\n",
    "</div>\"\"\"\n",
    "\n",
    "IPython.display.HTML(iframe)"
   ]
  },
  {
   "cell_type": "markdown",
   "metadata": {
    "colab_type": "text",
    "id": "yiOlTRgPf-kz"
   },
   "source": [
    "So from the example above, you may get the sense that using a style is a bit like painting.  We were given a \"color\" in our paint set called `alert-success`, and another one called `alert`, and  then we just choose the HTML elements we want to paint, by adding `class=\"alert-success\"`,  `class=\"alert\"`, or `class=\"alert alert-success\"`.  \n",
    "\n"
   ]
  },
  {
   "cell_type": "markdown",
   "metadata": {
    "colab_type": "text",
    "id": "Jfq8a_b7iCKi"
   },
   "source": [
    "## Finding more styles from Bootstrap"
   ]
  },
  {
   "cell_type": "markdown",
   "metadata": {
    "colab_type": "text",
    "id": "Ubm8tV11jb4l"
   },
   "source": [
    "Ok, so far we saw one style to apply `\"alert-success\"`.  Now it's time learn how to apply more.  \n",
    "\n",
    "Let's get started by applying more types of alerts.  Bootstrap has a lot of them.  If you click here, you will see the following.  First, is [a showcase of each `alert`](https://getbootstrap.com/docs/5.1/components/alerts/) style that Bootstrap can display.\n",
    "\n",
    "<img src=\"./alerts.png\" width=\"60%\"/> \n",
    "\n",
    "\n",
    "\n",
    "\n",
    "\n"
   ]
  },
  {
   "cell_type": "markdown",
   "metadata": {
    "colab_type": "text",
    "id": "lBYCirTPoFhz"
   },
   "source": [
    "Then, if you scroll down below the rendered alerts, you will see the HTML that produced them.  \n",
    "\n",
    "<img src=\"./alert-html.png\" width=\"80%\" />"
   ]
  },
  {
   "cell_type": "markdown",
   "metadata": {
    "colab_type": "text",
    "id": "9lNduwo0pUb_"
   },
   "source": [
    "All of Bootstraps documentation follows this format.  First there is a picture displaying the rendered output.  Then, below that is the corresponding HTML that produced that rendering. "
   ]
  },
  {
   "cell_type": "markdown",
   "metadata": {
    "colab_type": "text",
    "id": "j8GPY1z5qcyJ"
   },
   "source": [
    "To find more components beyond alerts, we simply click on one of the items on the toolbar on [the left handside of the page](https://getbootstrap.com/docs/4.2/components/alerts/), like Badge, or Breadcrumb.\n",
    "\n"
   ]
  },
  {
   "cell_type": "markdown",
   "metadata": {
    "colab_type": "text",
    "id": "JQmNveRopySI"
   },
   "source": [
    "## Using a new style: Follow a process"
   ]
  },
  {
   "cell_type": "markdown",
   "metadata": {
    "colab_type": "text",
    "id": "7xjHQhGFoYHP"
   },
   "source": [
    "So now that we know how to find some styles, and understand some of the documentation, it's time to use a new style in our HTML.\n",
    "\n",
    "At this point, it may seem easy to apply, but if we try typing in the code below we are prone to get something wrong.  \n",
    "\n",
    "```html\n",
    "<div class=\"alert alert-primary\" role=\"alert\">\n",
    "   A simple primary alert-check it out!\n",
    "</div>\n",
    "\n",
    "```\n",
    "\n",
    "The code above looks simple, but it still lends itself to a lot of questions: \n",
    "\n",
    "* Can we apply the class to just `divs` or does it work with any element?\n",
    "* Do we need both `alert` and `alert-primary` and what does each do?\n",
    "* What is `role=\"alert\"`?\n",
    "\n",
    "Not so simple, is it.  So once we find a style we like, we still proceed with caution.  And we follow a three step process:\n",
    "\n",
    "1. Make sure we are linking to the bootstrap styles once in our HTML\n",
    "\n",
    "```html \n",
    "<link rel=\"stylesheet\" href=\"https://stackpath.bootstrapcdn.com/bootstrap/4.2.1/css/bootstrap.min.css\">\n",
    "```\n",
    "2. **Copy and paste (don't type)** the code in the documentation\n",
    "3. **Then tweak** the copied code to get to the output we want\n",
    "\n",
    "> Once you feel more comfortable with Bootstrap, then you can start typing on your own.  But if something goes wrong, you go back to the three step process above to make things easier."
   ]
  },
  {
   "cell_type": "code",
   "execution_count": null,
   "metadata": {
    "cellView": "form",
    "colab": {
     "base_uri": "https://localhost:8080/",
     "height": 437
    },
    "colab_type": "code",
    "id": "zg5uqvKsMoV3",
    "outputId": "42ade0bd-be6c-4ecd-f9f1-c7c4df83095a"
   },
   "outputs": [
    {
     "data": {
      "text/html": [
       "<div class=\"glitch-embed-wrap\" style=\"height: 420px; width: 100%;\">\n",
       "  <iframe\n",
       "    allow=\"geolocation; microphone; camera; midi; encrypted-media\"\n",
       "    src=\"https://glitch.com/embed/#!/embed/zesty-helmet?path=index.html&previewSize=33\"\n",
       "    alt=\"zesty-helmet on Glitch\"\n",
       "    style=\"height: 100%; width: 100%; border: 0;\">\n",
       "  </iframe>\n",
       "</div>"
      ],
      "text/plain": [
       "<IPython.core.display.HTML object>"
      ]
     },
     "execution_count": 2,
     "metadata": {
      "tags": []
     },
     "output_type": "execute_result"
    }
   ],
   "source": [
    "#@title\n",
    "\n",
    "import IPython\n",
    "\n",
    "iframe = \"\"\"<div class=\"glitch-embed-wrap\" style=\"height: 420px; width: 100%;\">\n",
    "  <iframe\n",
    "    allow=\"geolocation; microphone; camera; midi; encrypted-media\"\n",
    "    src=\"https://glitch.com/embed/#!/embed/zesty-helmet?path=index.html&previewSize=33\"\n",
    "    alt=\"zesty-helmet on Glitch\"\n",
    "    style=\"height: 100%; width: 100%; border: 0;\">\n",
    "  </iframe>\n",
    "</div>\"\"\"\n",
    "\n",
    "IPython.display.HTML(iframe)"
   ]
  },
  {
   "cell_type": "markdown",
   "metadata": {
    "colab_type": "text",
    "id": "gesCB_DeyJQi"
   },
   "source": [
    "## We learned a lot"
   ]
  },
  {
   "cell_type": "markdown",
   "metadata": {
    "colab_type": "text",
    "id": "iszSK1CZyQ0M"
   },
   "source": [
    "In this lesson, we saw how to use styles in Twitter Bootstrap.  We saw that Twitter Bootstrap has already written a ton of CSS for us, and that we can use those styles by first linking to the style sheet with the `<link rel=\"stylesheet\" href=\"\">` line, and then adding CSS classes to our HTML elements.  \n",
    "\n",
    "We saw how to discover new styles by viewing the rendered output, and then the corresponding HTML below.  And then we saw that we can avoid mistakes by first copying and pasting code from the documentation, and then tweaking that code to get to precisely the output that we want."
   ]
  }
 ],
 "metadata": {
  "colab": {
   "name": "1-Twitter_Bootstrap.ipynb",
   "provenance": [],
   "version": "0.3.2"
  },
  "kernelspec": {
   "display_name": "Python 3 (ipykernel)",
   "language": "python",
   "name": "python3"
  },
  "language_info": {
   "codemirror_mode": {
    "name": "ipython",
    "version": 3
   },
   "file_extension": ".py",
   "mimetype": "text/x-python",
   "name": "python",
   "nbconvert_exporter": "python",
   "pygments_lexer": "ipython3",
   "version": "3.9.7"
  }
 },
 "nbformat": 4,
 "nbformat_minor": 4
}
