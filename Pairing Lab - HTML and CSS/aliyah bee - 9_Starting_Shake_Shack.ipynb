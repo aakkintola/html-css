{
  "nbformat": 4,
  "nbformat_minor": 0,
  "metadata": {
    "colab": {
      "name": "9-Starting-Shake-Shack.ipynb",
      "version": "0.3.2",
      "provenance": [],
      "collapsed_sections": []
    },
    "kernelspec": {
      "name": "python3",
      "display_name": "Python 3"
    }
  },
  "cells": [
    {
      "metadata": {
        "id": "NcBYsk3UrJOx",
        "colab_type": "text"
      },
      "cell_type": "markdown",
      "source": [
        "# Starting Shake Shack\n",
        "\n",
        "Shake shack is a compant that is loved the world over.  Shakes, burgers and fries -- it's a business model everyone can get behind.\n",
        "\n",
        "They have a website, that we can begin building.  This is the portion of the website that we'll work on in this lab.\n",
        "\n",
        "<img src=\"https://previews.dropbox.com/p/thumb/AAReOV1tPHS2z0Erbc-71R-Al6iqaqWSPVStzfATZnKqgAzXwofHIdghHWT1tHx1kj8I3Z6rRcwFKovJ8U98qQMoEvAAKZV-eKjHZhAIkWZ0EY7cSM6lQTgEAWFcytJ4e-iLHxptNEos4PvpHhMICvzGdVOAaSNE5OpNPj-m-4AYM1hUNz7ZQze74Ne93Kw3iWs7t095nAQFnByA5iz1V7E5WXvBdjxB7qXYAtKaKPKYkrcKF_kKYGeoyuxclH_Jqcw/p.png?size=2048x1536&size_mode=3\" />\n",
        "\n"
      ]
    },
    {
      "metadata": {
        "id": "xoj6-Ym4s5Pq",
        "colab_type": "text"
      },
      "cell_type": "markdown",
      "source": [
        "## Coding the HTML\n",
        "\n",
        "Let's start by focusing in on just coding the HTML for this section.  When you're all done with the first steps below, your webpage will look something like the following.  After getting this far, then we'll add in some styles.  \n",
        "\n"
      ]
    },
    {
      "metadata": {
        "id": "N2yPgvku6Vwj",
        "colab_type": "text"
      },
      "cell_type": "markdown",
      "source": [
        "\n",
        "\n",
        "<img src=\"https://previews.dropbox.com/p/thumb/AAStYxYcUkdcjuwOtb3K0FPH1yflY8JznoLMGCPgn8lxZT5LUrlw8XZwgM5fO7Ngc2DKYcevfKfFgOYLuvj_2nz4w01LruUGb68sXcq5p7_I9ThrZ4Sw2FzMSJH741kN81d3F8iMjPZDu6ALSC1QmUDfCOqfptkkR3sxsCe6y_qe5xefE30Egsg03VimV6z-z5AxQ9_H3YGIe7vdKbuQWIzHz_WWcyK2ygBR36VQHM5rP4KVxzUGai1h1vmOJphq57k/p.png?size=2048x1536&size_mode=3\" width=\"60%\" height=\"60%\" />\n",
        "\n"
      ]
    },
    {
      "metadata": {
        "id": "z2fT5V4E6UKt",
        "colab_type": "text"
      },
      "cell_type": "markdown",
      "source": [
        "## The steps for coding HTML\n",
        "\n",
        "Ok, it's time to start coding it out.\n",
        "\n",
        "* Code the top line that says, \"Get the Lowdown on All Things Shack\".  Choose the appropriate HTML element. \n",
        "* Create a `div` for the content below that top title.\n",
        "* Then code the picture of the ice cream cones.  Here is a link to that picture: \n",
        "```\n",
        "https://cdn.shakeshack.com/wp-content/uploads/2018/11/Holidayshakeblog-768x768.jpg\n",
        "```\n",
        "* Create a paragraph for the date, \"Nov 8, 2018\".\n",
        "* Create the correct kind of title (use the proper tag), for the line beginning with \"Unwrap\".  That line is also a link that takes you to the following website: \n",
        "```\n",
        "https://www.shakeshack.com/2018/11/08/unwrap-our-new-holiday-shake-tree-o-tuesday-november-13th/\n",
        "```\n",
        "* Add in the correct HTML element for the content below.  Here is the content: \n",
        "> New Holiday Shakes? Sleigh no more. From Tuesday, November 13th — Wednesday, January 2nd, we’ll be spinning up these festive flavors: Chocolate Peppermint: Chocolate frozen custard blended with peppermint topped with whipped cream + chocolate peppermint candy crumbles. Christmas Cookie (We brought back...\n",
        "\n",
        "* It ends with a link that says \"Read more\", and goes to the same webpage as the title with \"Unwrap\", \n",
        "```\n",
        "https://www.shakeshack.com/2018/11/08/unwrap-our-new-holiday-shake-tree-o-tuesday-november-13th/\n",
        "```\n",
        "\n",
        "* Finally, there is an ending line that says \"SEE WHAT ELSE IS NEW\", that points to the page: \n",
        "```\n",
        "https://www.shakeshack.com/view-all/\n",
        "```\n",
        "\n",
        "\n",
        "\n",
        "\n",
        "\n"
      ]
    },
    {
      "metadata": {
        "id": "jJ-G1MMyH1Cz",
        "colab_type": "code",
        "colab": {
          "base_uri": "https://localhost:8080/",
          "height": 437
        },
        "cellView": "form",
        "outputId": "53bdda24-8480-426a-efff-595a3f21feb5"
      },
      "cell_type": "code",
      "source": [
        "#@title\n",
        "\n",
        "import IPython\n",
        "\n",
        "iframe = \"\"\"<!-- Copy and Paste Me -->\n",
        "<div class=\"glitch-embed-wrap\" style=\"height: 420px; width: 100%;\">\n",
        "  <iframe\n",
        "    allow=\"geolocation; microphone; camera; midi; encrypted-media\"\n",
        "    src=\"https://glitch.com/embed/#!/embed/canyon-step?path=index.html&previewSize=33\"\n",
        "    alt=\"canyon-step on Glitch\"\n",
        "    style=\"height: 100%; width: 100%; border: 0;\">\n",
        "  </iframe>\n",
        "</div>\"\"\"\n",
        "\n",
        "IPython.display.HTML(iframe)\n"
      ],
      "execution_count": 1,
      "outputs": [
        {
          "output_type": "execute_result",
          "data": {
            "text/html": [
              "<!-- Copy and Paste Me -->\n",
              "<div class=\"glitch-embed-wrap\" style=\"height: 420px; width: 100%;\">\n",
              "  <iframe\n",
              "    allow=\"geolocation; microphone; camera; midi; encrypted-media\"\n",
              "    src=\"https://glitch.com/embed/#!/embed/canyon-step?path=index.html&previewSize=33\"\n",
              "    alt=\"canyon-step on Glitch\"\n",
              "    style=\"height: 100%; width: 100%; border: 0;\">\n",
              "  </iframe>\n",
              "</div>"
            ],
            "text/plain": [
              "<IPython.core.display.HTML object>"
            ]
          },
          "metadata": {
            "tags": []
          },
          "execution_count": 1
        }
      ]
    },
    {
      "metadata": {
        "id": "YDxiF8VL9FW7",
        "colab_type": "text"
      },
      "cell_type": "markdown",
      "source": [
        "## Step 2: Adding custom styles"
      ]
    },
    {
      "metadata": {
        "id": "1YvaDvMQ9bvC",
        "colab_type": "text"
      },
      "cell_type": "markdown",
      "source": [
        "Take a look at our original shake shack section again.  Yes, Shake Shack's page is better.  We're going to add some styles to catch up.  But, **do not worry about positioning your HTML elements**, we'll learn some tricks for doing that in the next section.\n",
        "\n",
        "<img src=\"https://previews.dropbox.com/p/thumb/AAReOV1tPHS2z0Erbc-71R-Al6iqaqWSPVStzfATZnKqgAzXwofHIdghHWT1tHx1kj8I3Z6rRcwFKovJ8U98qQMoEvAAKZV-eKjHZhAIkWZ0EY7cSM6lQTgEAWFcytJ4e-iLHxptNEos4PvpHhMICvzGdVOAaSNE5OpNPj-m-4AYM1hUNz7ZQze74Ne93Kw3iWs7t095nAQFnByA5iz1V7E5WXvBdjxB7qXYAtKaKPKYkrcKF_kKYGeoyuxclH_Jqcw/p.png?size=2048x1536&size_mode=3\" />"
      ]
    },
    {
      "metadata": {
        "id": "LnIDIErO9UDP",
        "colab_type": "text"
      },
      "cell_type": "markdown",
      "source": [
        "Ok, time to get started.  Using the `style.css` file, as well as the `index.html` file, make the following changes.\n",
        "\n",
        "* First, let's update the font of everything on the page.  We can change the text color, by selecting everything on the page, and setting the color attribute as the following `color: #4c4c4c`.  That set of numbers represents a color, which is called a hex color.  (Type \"hex color\" into to Google to see an interactive demo explaining.)  \n",
        "* We also want to select everything on the page, and change the `font-family` to `Droid Sans Regular, sans-serif`\n",
        "* Again, selecting everything on the page, change the `background-color` to `#f6f7f2`\n",
        "\n",
        "\n",
        "* Second, change the font of the title that reads \"Get the Lowdown on All Things Shack\"\n",
        "Select the element and change the `font-family` to `Apple Chancery`.\n",
        "* Finally, inspect the line, \"See what else is new\" [on the page](https://www.shakeshack.com/), to find the correct color of green to change that text to.\n",
        "* Also, go to the page to see what color the date is, and make the date that shade of gray.\n",
        "\n"
      ]
    },
    {
      "metadata": {
        "id": "GIY-wSGF9I5M",
        "colab_type": "text"
      },
      "cell_type": "markdown",
      "source": [
        "After these steps, your page will look like the following.\n",
        "\n",
        "<img src=\"https://previews.dropbox.com/p/thumb/AAQQI0MSWV12oNyqtQ4uKgjufreccqIx0hVBjcbOB45WkK83dIzsia8Qw8U8XHYhczlq7gcK_a1FRputMccc986YdH6KsRlAK-dXAUmLyj-Mp2UYcm6DMbqueEGzGfJ3RUn2b-HJlWzW2LCxf4XmkcSynjvkzDrxEXvn_ToJo6n1mjozy5ZO7dWM3PgZRDsn6hLW1IyKG6Op23-yTY1xCdbtATKxufIlCFDaP7VWYEezL_arQ_xCxBbS62PUaFiHB_o/p.png?size=2048x1536&size_mode=3\" />"
      ]
    },
    {
      "metadata": {
        "id": "8_7TRt29IdII",
        "colab_type": "text"
      },
      "cell_type": "markdown",
      "source": [
        "### Conclusion\n",
        "\n",
        "Well done.  Coding that portion out means that you have a good handle on HTML and CSS.  It really is just practice from there.  Feel free to go to Shake Shack's site, and mimic more of their styles to get your website looking even more like theirs.  Or try coding another section of their website.\n",
        "\n"
      ]
    }
  ]
}