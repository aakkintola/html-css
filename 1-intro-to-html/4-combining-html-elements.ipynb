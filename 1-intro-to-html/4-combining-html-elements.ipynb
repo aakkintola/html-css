{
 "cells": [
  {
   "cell_type": "markdown",
   "metadata": {
    "colab_type": "text",
    "id": "wqkmulJtcnB_"
   },
   "source": [
    "# Combining HTML elements\n",
    "\n",
    "### Introduction\n",
    "\n",
    "Now that we understand know about different HTML elements, let's learn about how we can combine different HTML elements."
   ]
  },
  {
   "cell_type": "markdown",
   "metadata": {
    "colab_type": "text",
    "id": "F6JXI7MTeYcE"
   },
   "source": [
    "### Combining HTML elements with text\n",
    "\n",
    "Let's look at a common example of using elements inside of elements -- this one from a [news article](https://www.nytimes.com/2019/01/10/arts/television/david-chase-edie-falco-sopranos-20th-anniversary.html) about the TV show The Sopranos."
   ]
  },
  {
   "cell_type": "markdown",
   "metadata": {},
   "source": [
    "<img src=\"./chase-paragraph.png\" width=\"60%\">"
   ]
  },
  {
   "cell_type": "markdown",
   "metadata": {},
   "source": [
    "What would that [look like in terms of HTML](https://glitch.com/embed/#!/embed/sprout-hedge?path=?path=index.html)?  Well **working from the outside in**, the whole section is a paragraph.  \n",
    "\n",
    "```html\n",
    "<p> David Chase, on the other hand...</p> \n",
    "```\n",
    "\n",
    "Then in the second sentence, **while still inside of the paragraph**, we place a link.    "
   ]
  },
  {
   "cell_type": "markdown",
   "metadata": {},
   "source": [
    "```html\n",
    "<p>\n",
    "  David Chase, on the other hand, doesn’t exactly jump at the chance to look back.\n",
    "  “I thought revisiting the show would be more pleasurable,” the creator \n",
    "  <a href=\"https://www.nytimes.com/2019/01/07/arts/television/david-chase-sopranos-interview.html?module=inline\"> told The New York Times </a>. \n",
    "  “But it turns out I’ve forgotten a lot more than I thought I would.”\n",
    "</p> \n",
    "```"
   ]
  },
  {
   "cell_type": "markdown",
   "metadata": {
    "colab_type": "text",
    "id": "I3tsoO9ggyIL"
   },
   "source": [
    "So notice that the ending `p` tag does arrive until the last line, and that the link is a part of that paragraph.   "
   ]
  },
  {
   "cell_type": "markdown",
   "metadata": {
    "colab_type": "text",
    "id": "KTwe6iJOcgY6"
   },
   "source": [
    "## Outlining our HTML with divs \n",
    "\n",
    "So we just looked at a one paragraph in a webpage, and saw how the HTML would look.  But what if we were to zoom out, and consider the HTML for the entire article.  "
   ]
  },
  {
   "cell_type": "markdown",
   "metadata": {},
   "source": [
    "<img src=\"./whole-article.png\" width=\"50%\">"
   ]
  },
  {
   "cell_type": "markdown",
   "metadata": {},
   "source": [
    "### 1. Break our web page into sections\n",
    "\n",
    "This is our technique.  We break down the entire page into two or three sections.  It's almost like we were writing a broad outline of our webpage.  \n",
    "\n",
    "And this is what our outline would look like.  Outline:\n",
    "\n",
    ">   * A. Title\n",
    ">   * B. Content\n",
    "  \n",
    "And in HTML, this looks like the following:  \n",
    "\n",
    "```html\n",
    "<div> \n",
    "   <div class=\"title\">\n",
    "   </div>\n",
    "   \n",
    "   <div class=\"content\">\n",
    "   </div>\n",
    "</div>\n",
    "```"
   ]
  },
  {
   "cell_type": "markdown",
   "metadata": {},
   "source": [
    "### 2. Break down these sections individually\n",
    "\n",
    "Now we need to (1) break down our title section and then (2) fill in the HTML for this section.  \n",
    "\n",
    "The title section looks like the following:"
   ]
  },
  {
   "cell_type": "markdown",
   "metadata": {},
   "source": [
    "<img src=\"./title-section.png\" width=\"40%\">"
   ]
  },
  {
   "cell_type": "markdown",
   "metadata": {},
   "source": [
    "And can be divided into the following\n",
    "\n",
    "* A. Title Section\n",
    "    1. Headline\n",
    "    2. Description\n",
    "    3. Article Date and Sharing\n",
    " \n",
    " \n",
    " **Second**, we fill in and update our [HTML](https://glitch.com/embed/#!/embed/little-scowl?path=index.html&previewSize=33)."
   ]
  },
  {
   "cell_type": "markdown",
   "metadata": {},
   "source": [
    "```HTML\n",
    "<div class=\"article\">\n",
    "  <div class=\"title\">\n",
    "   <h1> Edie Falco and David Chase Reflect </h1>\n",
    "    \n",
    "    <h3> The creator and the star look back </h3>\n",
    "    \n",
    "    <div class=\"date_and_share\">\n",
    "       <div class=\"date\"> Jan 10, 2019</div>\n",
    "       <div class=\"share\"> twitter, facebook</div>\n",
    "    </div>\n",
    "  </div>  \n",
    "  \n",
    "  <div class=\"content\">\n",
    "   \n",
    "  </div>  \n",
    "</div>\n",
    "```"
   ]
  },
  {
   "cell_type": "markdown",
   "metadata": {
    "colab_type": "text",
    "id": "1FEL5FpTtdvj"
   },
   "source": [
    "### Your turn\n",
    "\n",
    "Ok, now it's your turn to follow this process with the second half of the article.\n",
    "\n",
    "Once again, this is what the entire article looks like:\n",
    "\n",
    "<img src=\"./whole-article.png\" width=\"40%\">\n",
    "\n",
    "And here is our outline, just waiting for you to fill in the gaps for the content section:"
   ]
  },
  {
   "cell_type": "markdown",
   "metadata": {
    "colab_type": "text",
    "id": "vlybcsdAuX46"
   },
   "source": [
    "* A. Title Section\n",
    "    1. Headline\n",
    "    2. Description\n",
    "    3. Article Date and Sharing\n",
    "    \n",
    "* B. Content Section\n",
    "    * `Fill In`\n",
    "    * `Fill In`"
   ]
  },
  {
   "cell_type": "markdown",
   "metadata": {},
   "source": [
    "> Double click on the text above to edit."
   ]
  },
  {
   "cell_type": "markdown",
   "metadata": {
    "colab_type": "text",
    "id": "HOFtBRTmvDgd"
   },
   "source": [
    "Once you are done with the outline, fill in the HTML in [Glitch here](https://glitch.com/embed/#!/little-scowl).  \n",
    "\n",
    "* You don't need to fill in the entire article.  \n",
    "* For an image of Edie Falco, use the link below: \n",
    "\n",
    "`./Edie-Falco.jpg`"
   ]
  },
  {
   "cell_type": "markdown",
   "metadata": {
    "colab_type": "text",
    "id": "yh5E-LHxyWEb"
   },
   "source": [
    "## Check your work\n",
    "\n",
    "Finally, check your work.  Here, you can find the [original article](https://www.nytimes.com/2019/01/10/arts/television/david-chase-edie-falco-sopranos-20th-anniversary.html?action=click&module=Well&pgtype=Homepage&section=Television).  And remember that we can view the HTML in the developer console.  \n",
    "\n",
    "Let's see how we did with that first `title` section.  "
   ]
  },
  {
   "cell_type": "markdown",
   "metadata": {},
   "source": [
    "### One More Example"
   ]
  },
  {
   "cell_type": "markdown",
   "metadata": {},
   "source": [
    "Let's consider our example of Connor McDavid's profile on ESPN."
   ]
  },
  {
   "cell_type": "markdown",
   "metadata": {},
   "source": [
    "<img src=\"./connor.png\" width=\"60%\">"
   ]
  },
  {
   "cell_type": "markdown",
   "metadata": {},
   "source": [
    "We could imagine that the HTML in this section looks something like the following:"
   ]
  },
  {
   "cell_type": "markdown",
   "metadata": {
    "colab": {},
    "colab_type": "code",
    "id": "TvEOkKRlu0dJ"
   },
   "source": [
    "```html\n",
    "<div class=\"container\">\n",
    "    <div class=\"left\">\n",
    "        <img src=\"connor_mcdavid.png\" />\n",
    "    </div>\n",
    "    <div class=\"center\">\n",
    "        <h1> Connor McDavid </h1>\n",
    "        <ul> \n",
    "            <li> Born: Jan 13, 1997 </li>\n",
    "            <li> Age: 23 </li>\n",
    "            <li> Drafted 2015, First Round </li>\n",
    "        </ul>\n",
    "\n",
    "    </div>\n",
    "     <div class=\"right\">\n",
    "        <table>\n",
    "        </table>\n",
    "    </div>\n",
    "</div>\n",
    "```"
   ]
  },
  {
   "cell_type": "markdown",
   "metadata": {},
   "source": [
    "If you can get a sense of how the HTML above corresponds to our picture, then you are on your way."
   ]
  }
 ],
 "metadata": {
  "colab": {
   "name": "5. Combining HTML elements.ipynb",
   "provenance": [],
   "version": "0.3.2"
  },
  "kernelspec": {
   "display_name": "Python 3",
   "language": "python",
   "name": "python3"
  },
  "language_info": {
   "codemirror_mode": {
    "name": "ipython",
    "version": 3
   },
   "file_extension": ".py",
   "mimetype": "text/x-python",
   "name": "python",
   "nbconvert_exporter": "python",
   "pygments_lexer": "ipython3",
   "version": "3.7.4"
  }
 },
 "nbformat": 4,
 "nbformat_minor": 4
}
