{
 "cells": [
  {
   "cell_type": "markdown",
   "metadata": {
    "colab_type": "text",
    "id": "CybxQs3fn4m6"
   },
   "source": [
    "# HTML with dev tools\n",
    "\n",
    "### Introduction\n",
    "\n",
    "In this lesson, let's learn about HTML by exploring the ESPN webpage."
   ]
  },
  {
   "cell_type": "markdown",
   "metadata": {
    "colab_type": "text",
    "id": "1LgbG0PaoI1H"
   },
   "source": [
    "## Time to explore \n",
    "[Click here.](https://www.espn.com/nhl/team/roster/_/name/nyr/new-york-rangers)\n",
    "\n",
    "There it is. The page that we want to explore.\n",
    "\n"
   ]
  },
  {
   "cell_type": "markdown",
   "metadata": {
    "colab_type": "text",
    "id": "VwLm_bO0pQ0j"
   },
   "source": [
    "<img src=\"./rangers-roster.png\" width=\"400px\">"
   ]
  },
  {
   "cell_type": "markdown",
   "metadata": {
    "colab_type": "text",
    "id": "uLh3D_D2pYtH"
   },
   "source": [
    "> This lesson works best if you are viewing ESPN with the Google Chrome browser.  (You can check this by looking for the word Chrome in the menu on the top lefthand corner of your screen.)  If not, you can download chrome [here](https://www.google.com/chrome/)."
   ]
  },
  {
   "cell_type": "markdown",
   "metadata": {
    "colab_type": "text",
    "id": "Xazpl47spzZs"
   },
   "source": [
    "## Our first inspection\n",
    "\n",
    "### 1. Opening the inspector\n",
    "\n",
    "#### a. If you are using Chrome\n",
    "\n",
    "From the ESPN webpage, look at the menu at the chrome menu at the top of the page, and click on **view**, then at the very bottom of the view dropdown it says **developer**.  \n",
    "\n",
    "Click on developer, and at the bottom of you will see **Developer Tools**. Click on **Developer Tools**. This will pop up the Google Developer Console. \n",
    "\n",
    "> A quicker way to open up the console is to press `command+shift+i`."
   ]
  },
  {
   "cell_type": "markdown",
   "metadata": {
    "colab_type": "text",
    "id": "l1eVJRP3qhOj"
   },
   "source": [
    "<img src=\"http://raw.githubusercontent.com/JeffKatzy/html-intro/master/open-console.gif\" />"
   ]
  },
  {
   "cell_type": "markdown",
   "metadata": {
    "colab_type": "text",
    "id": "znxQc-OxqvN7"
   },
   "source": [
    "#### b. If you are using Mozilla Firefox\n",
    "From the ESPN webpage, look at the menu at the top, and then go to \n",
    "`Tools -> Web Developer -> Toggle Tools`.  \n",
    "\n",
    "This will pop up the Mozilla developer tools.\n",
    "\n",
    "> A quicker way to open up the console is to press `command+option+i` on a Mac or `command+option+c` on Windows."
   ]
  },
  {
   "cell_type": "markdown",
   "metadata": {
    "colab_type": "text",
    "id": "xekU7qjurWjT"
   },
   "source": [
    "#### c. If you are using Internet Explorer\n",
    "\n",
    "You can either press `F12`, or go to `Tools -> Developer Tools`.  After doing so you should see the HTML console pop up on the bottom of the screen."
   ]
  },
  {
   "cell_type": "markdown",
   "metadata": {
    "colab_type": "text",
    "id": "IK4xcBtIrraT"
   },
   "source": [
    "## 2. Highlight with the inspector\n",
    "\n",
    "Once the developer tools is open, make sure that the icon at the top left of the developer console is highlighted in blue, just like you it is below.  If it's not, click it so that it turns blue.\n",
    "\n",
    "> If you are using Internet Explorer, it is a white arrow."
   ]
  },
  {
   "cell_type": "markdown",
   "metadata": {},
   "source": [
    "<img src=\"./dev-tools-icon.png\" width=\"50%\"/>"
   ]
  },
  {
   "cell_type": "markdown",
   "metadata": {
    "colab_type": "text",
    "id": "tla6eeU2r-eF"
   },
   "source": [
    "## 3. Explore the elements\n",
    "\n",
    "\n",
    "Now, move your cursor over different parts of the web page. Notice what happens to the developer console.\n",
    "\n",
    "<img src=\"http://github.com/JeffKatzy/html-intro/blob/master/highlight-html.gif?raw=true\" />"
   ]
  },
  {
   "cell_type": "markdown",
   "metadata": {
    "colab_type": "text",
    "id": "HTzfB8olsNay"
   },
   "source": [
    "Now what happens if, with the top left icon still highlighted, you click on an image or text in the webpage.  How does the highlighted information relate to the content you clicked on?"
   ]
  },
  {
   "cell_type": "markdown",
   "metadata": {
    "colab_type": "text",
    "id": "vBAL2JEpscT3"
   },
   "source": [
    "### 4. Finally, make some changes\n",
    "\n",
    "Now, click on and highlight the related HTML below. And press delete. \n",
    "\n",
    "* What happened to the ESPN webpage?\n",
    "* Can you highlight other HTML and manipulate the webpage through the HTML in other ways?"
   ]
  },
  {
   "cell_type": "markdown",
   "metadata": {
    "colab_type": "text",
    "id": "cLZyq8K1slr9"
   },
   "source": [
    "### Change your mind...\n",
    "\n",
    "Let's ask ourselves the same questions again:\n",
    "\n",
    "* So what is HTML?\n",
    "* How does the image below line up to your understanding of what HTML is?\n",
    "\n",
    "<img src=\"html-content.png\" />"
   ]
  }
 ],
 "metadata": {
  "colab": {
   "name": "2-HTML-with-dev-tools.ipynb",
   "provenance": [],
   "version": "0.3.2"
  },
  "kernelspec": {
   "display_name": "Python 3 (ipykernel)",
   "language": "python",
   "name": "python3"
  },
  "language_info": {
   "codemirror_mode": {
    "name": "ipython",
    "version": 3
   },
   "file_extension": ".py",
   "mimetype": "text/x-python",
   "name": "python",
   "nbconvert_exporter": "python",
   "pygments_lexer": "ipython3",
   "version": "3.9.7"
  }
 },
 "nbformat": 4,
 "nbformat_minor": 4
}
