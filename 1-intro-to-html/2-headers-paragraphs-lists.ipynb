{
 "cells": [
  {
   "cell_type": "markdown",
   "metadata": {
    "colab_type": "text",
    "id": "EyQ_Ukbc45Kt"
   },
   "source": [
    "# HTML at a glance\n",
    "\n",
    "### Introduction\n",
    "In the last lesson, we got a sense of what HTML is by working with the developer console.  We saw that as we moved over different contents of the webpage, the console identified different text as being related to the webpage.\n",
    "\n",
    "## Another Look\n",
    "Let's define HTML as the following:  HTML is\n",
    "1. text\n",
    "2. that the browser interprets \n",
    "3. to display different content.\n",
    "\n",
    "With HTML, we have tags to tell the browser what kind of text we are displaying, and these different types of tags are called *elements*.  \n",
    "\n",
    "> For example, take a look at the page below.  We'll identify some of the elements on this page together."
   ]
  },
  {
   "cell_type": "markdown",
   "metadata": {},
   "source": [
    "<img src=\"./connor-macdavid.png\" />"
   ]
  },
  {
   "cell_type": "markdown",
   "metadata": {
    "colab_type": "text",
    "id": "HM660cfpoNQD"
   },
   "source": [
    "Here you will see the words **Connor McDavid** as the largest on the page.  That is called a heading.  \n",
    "\n",
    "* Just below the name, you can see height of `6'1`,  and the weight of `190` -- these are all part of a table.  \n",
    "\n",
    "* The boxes with `G`, `A`, and `Pts` to the right are another table.  \n",
    "\n",
    "It may seem like a lot to keep track, but really you just need to know six different HTML tags to interpret and construct the contents of a webpage.  \n",
    "> And you can always look things up online.  "
   ]
  },
  {
   "cell_type": "markdown",
   "metadata": {
    "colab_type": "text",
    "id": "C3AgjQUu5xjR"
   },
   "source": [
    "## You only need 6 tags\n",
    "\n",
    "Ok, so to create or interpret a website, we really only need to know six tags.  This may seem like it's a small list, but these tags generate all of the websites online.  Let's look at them briefly now, and then we'll do a deeper dive on each of them.  \n",
    "\n",
    "**Here**, are the six tags to know:\n",
    "\n",
    "| Tag name | Description                           | Code\n",
    "| ---               | -----------                                    | ----\n",
    "| Heading    | Used for titles of content    | `<h1>`\n",
    "| Paragraph | For longer text                      | `<p>`\n",
    "| Lists           | For lists of items                  | `<li>`\n",
    "| Divisions    | For dividing sections of pages | `<div>`\n",
    "| Images           | For images                  | `<img>`\n",
    "| Anchor tags           | For linking to content                  | `<a>`\n",
    "\n",
    "\n",
    "Now let's take a deeper dive into the first three of those tags, headings, paragraphs and lists."
   ]
  },
  {
   "cell_type": "markdown",
   "metadata": {
    "colab_type": "text",
    "id": "U1n-fhb08acm"
   },
   "source": [
    "## The first three: headings, paragraphs and lists\n",
    "\n",
    "### Heading Tags\n",
    "\n",
    "```html\n",
    "  <h1> Connor McDavid </h1>\n",
    "```"
   ]
  },
  {
   "cell_type": "markdown",
   "metadata": {},
   "source": [
    "Heading tags are used to indicate content that is more important than normal - like a title.  Heading tags go from `<h1>` to `<h6>` with `<h1>` tags indicating the most important content, and thus the largest, heading on the page.  \n",
    "\n",
    "```html\n",
    "<h1> most important </h1> \n",
    "<h3> less important  </h3> \n",
    "<h6> least important  </h6>\n",
    "```"
   ]
  },
  {
   "cell_type": "markdown",
   "metadata": {},
   "source": [
    "> In a notebook, you can directly write HTML.  Below we got you started with an `h1` tag.  Edit the content, and press shift + return to see how the content renders."
   ]
  },
  {
   "cell_type": "markdown",
   "metadata": {},
   "source": [
    "<h1> hello </h1>"
   ]
  },
  {
   "cell_type": "markdown",
   "metadata": {},
   "source": [
    "If you prefer to work in a text editor, we can do so [ here](https://glitch.com/embed/#!/embed/battle-beret?path=index.html) with Glitch.  \n",
    "\n",
    "> To do so, click on [this link](https://glitch.com/embed/#!/embed/battle-beret?path=index.html), and then click `remix to edit` to edit the code.  You can see how the HTML is rendered by then clicking `edit full screen`, and then `show -> next to the code`."
   ]
  },
  {
   "cell_type": "markdown",
   "metadata": {},
   "source": [
    "<img src=\"./glitch-show.png\"  width=\"70%\">"
   ]
  },
  {
   "cell_type": "markdown",
   "metadata": {
    "colab_type": "text",
    "id": "v3jT7ZTOw84t"
   },
   "source": [
    "The panel on the left is a text editor, and you can edit the HTML and see how this affects how our code is displayed."
   ]
  },
  {
   "cell_type": "markdown",
   "metadata": {
    "colab_type": "text",
    "id": "lOPNTOe2-SSf"
   },
   "source": [
    "### Paragraph tags\n",
    "\n",
    "Ok, now that we learned about headings, it's time to learn about our second tag, paragraphs.\n",
    "\n",
    "**Paragraph tags** are used to indicate paragraphs.  They can wrap large chunks of text"
   ]
  },
  {
   "cell_type": "markdown",
   "metadata": {},
   "source": [
    "```html\n",
    "<h1> Connor McDavid </h1>\n",
    "\n",
    "<p> Connor McDavid is an NHL player.</p>\n",
    "```"
   ]
  },
  {
   "cell_type": "markdown",
   "metadata": {},
   "source": [
    "[Click here](https://glitch.com/embed/#!/embed/garnet-climb?path=index.html) to view the code in a text editor."
   ]
  },
  {
   "cell_type": "markdown",
   "metadata": {
    "colab_type": "text",
    "id": "paPcPGyK-YdH"
   },
   "source": [
    "### Lists\n",
    "\n",
    "Lists are all over websites.  For example, in our Connor McDavid example, the information indicating when the player was born, his age, when he was drafted and his experience are all part of a list.\n",
    "\n"
   ]
  },
  {
   "cell_type": "markdown",
   "metadata": {},
   "source": [
    "<img src=\"./connor-macdavid.png\" />"
   ]
  },
  {
   "cell_type": "markdown",
   "metadata": {
    "colab_type": "text",
    "id": "ifFtMfgs3ouv"
   },
   "source": [
    "This is what a list looks like in HTML: \n",
    "\n",
    "```HTML\n",
    "<ul>\n",
    "    <li> Jan 13, 1997 </li>\n",
    "    <li> 23 </li>\n",
    "    <li> 2015 </li>\n",
    " </ul>\n",
    "\n",
    "```"
   ]
  },
  {
   "cell_type": "markdown",
   "metadata": {
    "colab_type": "text",
    "id": "Od9MeEXI1wgm"
   },
   "source": [
    "Notice that our list has two tags: \n",
    "1. `<ul>`\n",
    "2. `<li>`\n",
    "\n",
    "The `ul` indicates the beginning and end of the entire list.  And the `li` is used to indicate each item in the list.  `li` literally stands for `list item`.   \n",
    "\n",
    "\n",
    "There are a couple different types of lists.  Unordered lists, for lists where items do not have a hierarchy, and ordered lists for where items do.  To use an unordered list, begin and end your list with `ul` and to use an ordered list begin and end your list with an `ol`."
   ]
  },
  {
   "cell_type": "markdown",
   "metadata": {
    "cellView": "form",
    "colab": {
     "base_uri": "https://localhost:8080/",
     "height": 237
    },
    "colab_type": "code",
    "executionInfo": {
     "elapsed": 400,
     "status": "ok",
     "timestamp": 1546622878972,
     "user": {
      "displayName": "Jeffrey Katz",
      "photoUrl": "",
      "userId": "04476546930116636116"
     },
     "user_tz": 300
    },
    "id": "jQTjb3Xw50Oq",
    "outputId": "7af4c562-40e9-473e-a8f2-0b6e597f5726"
   },
   "source": [
    "[Click here](https://glitch.com/embed/#!/coral-crush) to see an ordered list in Glitch."
   ]
  },
  {
   "cell_type": "markdown",
   "metadata": {
    "colab_type": "text",
    "id": "zYTTgKJn6VBr"
   },
   "source": [
    "## Your turn"
   ]
  },
  {
   "cell_type": "markdown",
   "metadata": {
    "colab_type": "text",
    "id": "ou8FeB7iuW2g"
   },
   "source": [
    " We need you to write some of your own unique code.  So we'll give you a scratchpad in Glitch to write some HTML.  Click on the button to the top right that says **Remix to Edit**.  Then click on `Edit Full Screen`, then click on show, followed by `Next to the Code`.\n",
    "\n",
    "\n",
    "**Once you do that...**, simply use the elements we learned about, `headers`, `paragraphs`, and `lists` to write your own HTML."
   ]
  },
  {
   "cell_type": "markdown",
   "metadata": {},
   "source": [
    "[Click here for Glitch.](https://glitch.com/embed/#!/embed/easy-tanker-ui92m82f9r?path=?path=index.html:1:0)"
   ]
  },
  {
   "cell_type": "markdown",
   "metadata": {
    "colab_type": "text",
    "id": "kyCZ1MurtL-S"
   },
   "source": [
    "### How we use tags\n",
    "\n",
    "Ok, so those are our first three tags.  \n",
    "\n",
    "| Tag name | Description                           | Code\n",
    "| ---               | -----------                                    | ----\n",
    "| Heading    | Used for titles of content    | `<h1>`\n",
    "| Paragraph | For longer text                      | `<p>`\n",
    "| Lists           | For lists of items                  | `<ul> <li>`\n",
    "\n",
    "And using each of them requires the same pattern:  `<start-tag>` content `</end-tag>`.  So, using that formula, and our knowledge of our three tags, we can get started.\n",
    "\n",
    "```html\n",
    " <p> your turn </p>\n",
    "```\n",
    "\n"
   ]
  }
 ],
 "metadata": {
  "colab": {
   "name": "3-html-at-a-glance.ipynb",
   "provenance": [],
   "toc_visible": true,
   "version": "0.3.2"
  },
  "kernelspec": {
   "display_name": "Python 3 (ipykernel)",
   "language": "python",
   "name": "python3"
  },
  "language_info": {
   "codemirror_mode": {
    "name": "ipython",
    "version": 3
   },
   "file_extension": ".py",
   "mimetype": "text/x-python",
   "name": "python",
   "nbconvert_exporter": "python",
   "pygments_lexer": "ipython3",
   "version": "3.9.7"
  }
 },
 "nbformat": 4,
 "nbformat_minor": 4
}
