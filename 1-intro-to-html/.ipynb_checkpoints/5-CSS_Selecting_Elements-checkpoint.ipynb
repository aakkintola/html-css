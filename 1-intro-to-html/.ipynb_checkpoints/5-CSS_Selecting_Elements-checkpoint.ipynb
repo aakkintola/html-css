{
 "cells": [
  {
   "cell_type": "markdown",
   "metadata": {
    "colab_type": "text",
    "id": "e2yJx4z3Wy4D"
   },
   "source": [
    "# Beginning CSS – Selecting Elements"
   ]
  },
  {
   "cell_type": "markdown",
   "metadata": {
    "colab_type": "text",
    "id": "DYcRHU7gXoJ-"
   },
   "source": [
    "We have just seen how HTML allows us to describe our different types of content on the page.  After we describe the content, the browser then renders our content with some default styles.  For example, unordered list elements have a bullet next to them.  \n",
    "\n",
    "<ul> \n",
    "  <li> look </li> \n",
    "  <li> at the </li> \n",
    "  <li> nice dots </li>\n",
    " </ul>"
   ]
  },
  {
   "cell_type": "markdown",
   "metadata": {
    "colab_type": "text",
    "id": "Z5kG9iItXsXY"
   },
   "source": [
    "## What is CSS\n",
    "\n",
    "CSS allows us to override and add to any of our HTML styles.  Essentially anything you can imagine, you can change. Doing so takes two different components:\n",
    "\n",
    "1. **Selecting** an element on the page\n",
    "2. **Describing the style** to associate with the selected element (or elements).\n",
    "\n",
    "In this lesson we'll learn how to **select elements** .  "
   ]
  },
  {
   "cell_type": "markdown",
   "metadata": {
    "colab_type": "text",
    "id": "j7MyT9TiZ6i4"
   },
   "source": [
    "## Selecting Elements\n",
    "\n",
    "There are two main ways to select an element: \n",
    "\n",
    "1. By the tag name\n",
    "2. By the class name\n",
    "\n",
    "(whatever that means).\n",
    "\n",
    "### Tag selectors\n",
    "\n",
    "Let's start with selecting elements by the tag name.  We learned that in HTML, every element has a tag.  A header has an `h1`, a paragraph has a `p` tag.  \n",
    "\n",
    "*So now imagine that we want all of our `h1` headings to have a background color blue.*  \n",
    "\n",
    "\n",
    "In the code below, we first tell the browser that we are writing CSS code by writing the opening and closing tags: `<style> </style>`.  Our CSS goes in the middle of these tags.  Then, we select tags with the tag name: `p`, `ul`, `li`, or in this case `h1`.\n",
    "\n",
    "It looks like this: \n",
    "\n",
    "```html\n",
    "\n",
    "h1 {\n",
    "    background-color: blue;\n",
    "}\n",
    "\n",
    "```\n",
    "\n",
    "Or, embedded in HTML it looks like:"
   ]
  },
  {
   "cell_type": "markdown",
   "metadata": {},
   "source": [
    "```html\n",
    "<html>\n",
    "<style>\n",
    "    h1 { background-color: blue; }\n",
    "</style>\n",
    "  \n",
    "<h1> Rick Nash </h1>\n",
    "<p> Rick Nash is a professional NHL player for the Rangers </p>\n",
    "<h3> Rick Nash Details </h3>\n",
    "<p> Rick Nash was born in 1984. </p>\n",
    "  \n",
    "</html>\n",
    "```"
   ]
  },
  {
   "cell_type": "markdown",
   "metadata": {},
   "source": [
    "> Take a look at it in [glitch here](https://glitch.com/embed/#!/embed/married-tanker?path=index.html)."
   ]
  },
  {
   "cell_type": "markdown",
   "metadata": {
    "colab_type": "text",
    "id": "zgxzrGYCbpkV"
   },
   "source": [
    "Let's select another element by its tag name.  This time we will add styling to set the background color of all paragraph elements to red. "
   ]
  },
  {
   "cell_type": "markdown",
   "metadata": {},
   "source": [
    "```html\n",
    "<html>\n",
    "    <style>\n",
    "\n",
    "    h1 {\n",
    "      background-color: blue;\n",
    "    }\n",
    "\n",
    "    p {\n",
    "        background-color: red; \n",
    "      }\n",
    "\n",
    "    </style>\n",
    "\n",
    "<h1> Rick Nash </h1>\n",
    "<p> Rick Nash is a professional NHL player for the Rangers </p>\n",
    "<h3> Rick Nash Details </h3>\n",
    "<p> Rick Nash was born in 1984. </p>\n",
    "  \n",
    "</html>\n",
    "```"
   ]
  },
  {
   "cell_type": "markdown",
   "metadata": {},
   "source": [
    "> Here is the code [in glitch](https://glitch.com/embed/#!/embed/actually-license?path=index.html&previewSize=33)."
   ]
  },
  {
   "cell_type": "markdown",
   "metadata": {},
   "source": [
    "### Reviewing Tag Selectors"
   ]
  },
  {
   "cell_type": "markdown",
   "metadata": {
    "colab_type": "text",
    "id": "6s9kyDksVdvL"
   },
   "source": [
    "Before moving on, let's make sure we have down how to change the styling of elements by tag.  This is our formula: \n",
    "* (1) Tag \n",
    "* (2) Attribute \n",
    "* (3) Value \n",
    "* (4) Semicolon.\n",
    "\n",
    "Do you see how this applied to our last example?\n",
    "\n",
    "```html\n",
    "  p { background-color: red; }\n",
    "  \n",
    " ```\n",
    "Where `p` is our tag, `background-color` is the attribute, and `red` is the value of the color. \n",
    "\n",
    "```html\n",
    "  tag { attribute: value; }\n",
    "\n",
    "```\n",
    "\n"
   ]
  },
  {
   "cell_type": "markdown",
   "metadata": {
    "colab_type": "text",
    "id": "3mgiAGY7cHHm"
   },
   "source": [
    "## Class Selectors\n",
    "\n",
    "\n",
    "So we just learned how to change the style of an HTML element by selecting it based on the tag.  We can also select an element based on it's class.  Here's how.  \n",
    "\n",
    "1. **Give our element a class attribute**\n",
    "\n",
    "First, we first give an element a class attribute.  Let's a give a paragraph tag a class of summary.  \n",
    "\n",
    "```html \n",
    "<p class=\"summary\"> </p>\n",
    "```\n",
    "\n",
    "So notice that inside the first set of brackets we write `class='class-name'`.  \n",
    "> Our class names **cannot** have any spaces.  \n",
    "\n",
    "\n",
    "2. **Select the element with that class**\n",
    "\n",
    "After giving elements a class attribute, we can then style *each element with that class name* by selecting with CSS. This is how we select elements with the class `summary` and give them a `background-color` of green: \n",
    "\n",
    "```html \n",
    ".summary {\n",
    "  background-color: green;\n",
    "}\n",
    "\n",
    "```\n",
    "\n",
    "That's it!  So for class selectors, we use a dot, `.` followed by the name of the class."
   ]
  },
  {
   "cell_type": "markdown",
   "metadata": {},
   "source": [
    "### Seeing it in Action"
   ]
  },
  {
   "cell_type": "markdown",
   "metadata": {},
   "source": [
    "```html\n",
    "<html>\n",
    "  <style>\n",
    "    .summary {\n",
    "    font-family: arial;\n",
    "    background-color: red;\n",
    "    }\n",
    "    .small {\n",
    "    font-size: 8px;\n",
    "    }\n",
    "  </style>\n",
    "\n",
    "  <h1> Rick Nash </h1>\n",
    "  <p class=\"summary\"> Rick Nash is a professional NHL player for the Rangers </p>\n",
    "  <h3 class=\"summary\"> Rick Nash Details </h3>\n",
    "  <p> Rick Nash was born in 1984. </p>\n",
    "  <p class=\"small\"> He played well. </p>\n",
    "</html>\n",
    "```"
   ]
  },
  {
   "cell_type": "markdown",
   "metadata": {
    "colab_type": "text",
    "id": "qPhch4jSdpmf"
   },
   "source": [
    "> See this in Glitch [here](https://glitch.com/embed/#!/embed/changeable-spandex?path=index.html)."
   ]
  },
  {
   "cell_type": "markdown",
   "metadata": {},
   "source": [
    "> In the code above, we first define a class called `summary` that gives elements with that class a `background-color` red and a `font-family` (that is, a font) of `arial`.  We also define a class called `small`, which makes elements small by changing the `font-size`. \n",
    "\n",
    "> Then by adding classes of `summary` and `small` to some of our elements, we change the style of those elements. "
   ]
  },
  {
   "cell_type": "markdown",
   "metadata": {
    "colab_type": "text",
    "id": "AqkMzi66dn1m"
   },
   "source": [
    "> So when the browser saw the class attached to the element, it looked for the related class styling.  It then rendered the content with the styles."
   ]
  },
  {
   "cell_type": "markdown",
   "metadata": {
    "colab_type": "text",
    "id": "fbqh6ttkeOEb"
   },
   "source": [
    "### Adding multiple classes to an element\n",
    "\n",
    "If we want, we can give elements more than one class by placing a space in between.  For example: `<p class=\"summary small\">`.\n",
    "\n",
    "You can see that the last paragraph is now small - we set it to `8px`.   It's also a different font, and with a red background.  "
   ]
  },
  {
   "cell_type": "markdown",
   "metadata": {},
   "source": [
    "> [See this in glitch here](https://glitch.com/embed/#!/embed/glory-pancake?path=index.html)"
   ]
  },
  {
   "cell_type": "markdown",
   "metadata": {
    "colab_type": "text",
    "id": "E1nuxPwPewFS"
   },
   "source": [
    "## How do you feel?\n",
    "Ok, so this section covered the major elements of CSS.\n",
    "\n",
    "* To select CSS elements by class, use a `.` followed by the name of the class.\n",
    "* CSS attributes come in property, value pairs, with a semi-colon at the end.  For example `color: blue;` \n",
    "* Use the web inspector, then click on an element to examine the CSS of your favorite webpage.  \n"
   ]
  },
  {
   "cell_type": "markdown",
   "metadata": {
    "colab_type": "text",
    "id": "6GkGw0GLe45k"
   },
   "source": [
    "## Put it in practice\n",
    "In the glitch link below, we added a sandbox with a couple styles already written.  Try adding classes to various html elements to apply the styles.  \n",
    "\n",
    "* Can you add more than one class to the same element?  \n",
    "* Can you try adding a new css class, in addition to content and color, and applying the class to an element."
   ]
  },
  {
   "cell_type": "markdown",
   "metadata": {},
   "source": [
    "[Your glitch sandbox](https://glitch.com/embed/#!/embed/sudden-warrior?path=index.html&previewSize=33)"
   ]
  }
 ],
 "metadata": {
  "colab": {
   "collapsed_sections": [],
   "name": "7-Beginning-CSS-Selecting-Elements.ipynb",
   "provenance": [],
   "version": "0.3.2"
  },
  "kernelspec": {
   "display_name": "Python 3",
   "language": "python",
   "name": "python3"
  },
  "language_info": {
   "codemirror_mode": {
    "name": "ipython",
    "version": 3
   },
   "file_extension": ".py",
   "mimetype": "text/x-python",
   "name": "python",
   "nbconvert_exporter": "python",
   "pygments_lexer": "ipython3",
   "version": "3.7.4"
  }
 },
 "nbformat": 4,
 "nbformat_minor": 4
}
