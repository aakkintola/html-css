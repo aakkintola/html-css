{
 "cells": [
  {
   "cell_type": "markdown",
   "metadata": {
    "colab_type": "text",
    "id": "HVUJSl-Zg2MQ"
   },
   "source": [
    "# Working With CSS - Adding CSS Attributes"
   ]
  },
  {
   "cell_type": "markdown",
   "metadata": {
    "colab_type": "text",
    "id": "Re9NAkaRhAlh"
   },
   "source": [
    "## Assigning Attributes\n",
    "\n",
    "\n",
    "Once we get into the world of CSS, there are lots of options available to us, even just on fonts.  \n",
    "\n",
    "Click through the CSS demo [here](https://developer.mozilla.org/en-US/docs/Web/CSS/font) to see all of the different ways that we can change fonts.  Here we'll place the first one below."
   ]
  },
  {
   "cell_type": "markdown",
   "metadata": {},
   "source": [
    "[Glitch with code](https://glitch.com/embed/#!/embed/beryl-print?path=index.html&previewSize=33)"
   ]
  },
  {
   "cell_type": "markdown",
   "metadata": {
    "colab_type": "text",
    "id": "KHdd7UbRgCQX"
   },
   "source": [
    "Just by looking at the code, hopefully you can get a sense of what it's doing.   Try changing some of the code.  The first part is the font-size, the second part is the font style, and the last is best seen by removing it and seeing what happens.  "
   ]
  },
  {
   "cell_type": "markdown",
   "metadata": {
    "colab_type": "text",
    "id": "83mlFik9jRyB"
   },
   "source": [
    "## Becoming Self-Taught\n",
    "\n",
    "The main skill with learning HTML attributes is not to learn all of them: there's simply too many.  Instead, it's to be able to see examples and try them out on your own.  Where can you find examples?  Well one place is in the [documentation for CSS](https://developer.mozilla.org/en-US/docs/Web/CSS).  Another way, is again by inspecting websites."
   ]
  },
  {
   "cell_type": "markdown",
   "metadata": {},
   "source": [
    "Let's take a look at our web inspector again:\n",
    "\n"
   ]
  },
  {
   "cell_type": "markdown",
   "metadata": {},
   "source": [
    "<img src=\"./inspector-checks.png\" width=\"60%\">"
   ]
  },
  {
   "cell_type": "markdown",
   "metadata": {
    "colab_type": "text",
    "id": "MV_ncV3vkTE2"
   },
   "source": [
    "Take a look at all of the attributes.  It's possible to check and uncheck these attributes to see what each of these do."
   ]
  },
  {
   "cell_type": "markdown",
   "metadata": {
    "colab_type": "text",
    "id": "ElevTA_HkccH"
   },
   "source": [
    "## Linking to an external stylesheet"
   ]
  },
  {
   "cell_type": "markdown",
   "metadata": {
    "colab_type": "text",
    "id": "rStVFX6Gml9X"
   },
   "source": [
    "So far we have been adding our styles directly in the HTML file with the `<style>` tag.  \n",
    "\n",
    "However, generally developers like to separate out the CSS from the HTML.  The way to do that is to write the CSS in a separate file, and then link to that file from the HTML.  \n",
    "\n",
    "\n",
    "\n",
    "In the file below you can see that we have a new file called styles.css.  If you click on it, you can see we have some CSS inside of there.  Press the play button, and you will see that the styles in that `styles.css` file are applied.  This happens because of this line:\n",
    "\n",
    "```html\n",
    "<link href=\"styles.css\" rel=\"stylesheet\" type=\"text/css\" />\n",
    "\n",
    "```\n",
    "\n",
    "That line is equivalent to copying and pasting the code in the styles.css file into some `<style>` tags directly in our HTML."
   ]
  },
  {
   "cell_type": "markdown",
   "metadata": {},
   "source": [
    "[Glitch code](https://glitch.com/embed/#!/embed/great-headlight?path=index.html&previewSize=33)"
   ]
  }
 ],
 "metadata": {
  "colab": {
   "name": "8_adding_css_attributes.ipynb",
   "provenance": [],
   "version": "0.3.2"
  },
  "kernelspec": {
   "display_name": "Python 3",
   "language": "python",
   "name": "python3"
  },
  "language_info": {
   "codemirror_mode": {
    "name": "ipython",
    "version": 3
   },
   "file_extension": ".py",
   "mimetype": "text/x-python",
   "name": "python",
   "nbconvert_exporter": "python",
   "pygments_lexer": "ipython3",
   "version": "3.7.4"
  }
 },
 "nbformat": 4,
 "nbformat_minor": 4
}
