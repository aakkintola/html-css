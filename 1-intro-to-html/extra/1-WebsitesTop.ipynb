{
 "cells": [
  {
   "cell_type": "markdown",
   "metadata": {
    "colab_type": "text",
    "id": "G9ToGqBKRIzp"
   },
   "source": [
    "# Websites Top To Bottom\n",
    "\n",
    "\n",
    "\n",
    "---\n"
   ]
  },
  {
   "cell_type": "markdown",
   "metadata": {
    "colab_type": "text",
    "id": "v6h3gJnXZ-9V"
   },
   "source": [
    "## Objectives \n",
    "\n",
    "* Our aim in this class is to learn one thing: how our ESPN website works.\n",
    "* In doing that, we'll learn how every website works."
   ]
  },
  {
   "cell_type": "markdown",
   "metadata": {
    "colab_type": "text",
    "id": "hxV259hBRsFD"
   },
   "source": [
    "## How a website works\n",
    "\n",
    "<html>\n",
    "  <link src=\"https://stackpath.bootstrapcdn.com/bootstrap/4.2.1/css/bootstrap.min.css\"/>\n",
    "Why dong we just tell you.  A website works by using: \n",
    "\n",
    "<ol>\n",
    "  <li>**HTML** to determine *how* to present information to the user</li>\n",
    "  <li>**Python** to determine *what* information to present to the user</li>\n",
    "</ol>\n",
    "\n",
    "So one part of building a website is the appearance of a website, and the other part is determining what information to present.  HTML is that top layer of a website, dictating the way a website will look.\n",
    "  \n",
    "  But as you'll see later...\n",
    "  \n",
    " </html>"
   ]
  },
  {
   "cell_type": "markdown",
   "metadata": {
    "colab_type": "text",
    "id": "py5Qrqv6TrTG"
   },
   "source": [
    "** There's a lot underneath**"
   ]
  },
  {
   "cell_type": "markdown",
   "metadata": {
    "colab_type": "text",
    "id": "3yNHoxhcTiEP"
   },
   "source": [
    "\n",
    "<img src=\"http://jkatzy.com/wp-content/uploads/2017/10/iceberg_1x.jpg\" alt=\"drawing\" width=\"400\"/>\n",
    "\n",
    "Still, let's focus on HTML."
   ]
  },
  {
   "cell_type": "markdown",
   "metadata": {
    "colab_type": "text",
    "id": "nFruBGR6UkL4"
   },
   "source": [
    "\n",
    "## About HTML\n",
    "\n",
    "<b> How Tim Berner's Lee created HTML </b>\n",
    " \n",
    "  <p>\n",
    "  Sir Tim Berners-Lee is a British computer scientist. He was born in London.  Growing up, Sir Tim was interested in trains and had a model railway in his bedroom. \n",
    "</p>\n",
    "\n",
    "\n",
    "\n",
    "He recalls:\n",
    "\n",
    "> *I made some electronic gadgets to control the trains. Then I ended up getting more interested in electronics than trains. Later on, when I was in college I made a computer out of an old television set.*\n",
    "\n",
    "Berners-Lee became a software engineer at CERN, the large particle physics laboratory. Scientists came from all over the world to use its accelerators.\n",
    "\n",
    "\n",
    "<div float=\"left\">\n",
    "  <img src=\"http://jkatzy.com/wp-content/uploads/2017/10/tim-berners-lee.jpg\" />\n",
    "<div width=\"50px\">\n",
    "\n",
    "  Sir Tim noticed that they were having difficulty sharing information.\n",
    "\n",
    "> *\"In those days, there was different information on different computers, but you had to log on to different computers to get at it. Also, sometimes you had to learn a different program on each computer. Often it was just easier to go and ask people when they were having coffee…\"\"*, Tim says.\n",
    "\n",
    "Tim thought he saw a way to solve this problem.  Already, millions of computers were being connected together through the fast-developing internet and Berners-Lee realised they could share information by exploiting an emerging technology called hypertext.\n",
    "\n",
    "In March 1989, Tim laid out his vision for what would become the web in a document called *“Information Management: A Proposal”*. Believe it or not, Tim’s initial proposal was not immediately accepted. In fact, his boss at the time, Mike Sendall, noted the words “Vague but exciting” on the cover.  Tim moved forward on it using a NeXT computer, one of Steve Jobs’ early products.\n",
    "  \n",
    "  By October of 1990, Tim had written one of fundamental technologies of the Internet: HTML.  \n",
    "  \n",
    "[Source: Web Foundation](https://webfoundation.org/about/vision/history-of-the-web/)\n",
    "  \n",
    "  <img src=\"http://jkatzy.com/wp-content/uploads/2017/10/Screen-Shot-2017-10-05-at-12.49.03-PM.png\" />"
   ]
  },
  {
   "cell_type": "markdown",
   "metadata": {
    "colab_type": "text",
    "id": "GDKhIMoGdY_J"
   },
   "source": [
    "## HTML according to Wikipedia\n",
    "\n",
    "Ok, now let's see what the oracle Wikipedia has to say.  Just read the second paragraph beginning with \"HTML elements...\"\n",
    "\n",
    "<img src=\"http://jkatzy.com/wp-content/uploads/2017/10/wiki-html.png\" />\n",
    "\n",
    "[Source: Wikipedia ](https://en.wikipedia.org/wiki/HTML)"
   ]
  },
  {
   "cell_type": "markdown",
   "metadata": {
    "colab_type": "text",
    "id": "vtpskHGBev9f"
   },
   "source": [
    "## Take a minute to ponder...\n",
    "\n",
    "\n",
    "* So what is HTML?\n",
    "* Examine the image to the right of the Wikipedia article.  How does that relate to what your answer?"
   ]
  },
  {
   "cell_type": "markdown",
   "metadata": {
    "colab_type": "text",
    "id": "gnDi00NnfmB3"
   },
   "source": [
    "## Up next \n",
    "\n",
    "* Talk less, do more\n",
    "\n"
   ]
  }
 ],
 "metadata": {
  "colab": {
   "name": "1-WebsitesTop.ipynb",
   "provenance": [],
   "toc_visible": true,
   "version": "0.3.2"
  },
  "kernelspec": {
   "display_name": "Python 3",
   "language": "python",
   "name": "python3"
  },
  "language_info": {
   "codemirror_mode": {
    "name": "ipython",
    "version": 3
   },
   "file_extension": ".py",
   "mimetype": "text/x-python",
   "name": "python",
   "nbconvert_exporter": "python",
   "pygments_lexer": "ipython3",
   "version": "3.7.4"
  }
 },
 "nbformat": 4,
 "nbformat_minor": 4
}
