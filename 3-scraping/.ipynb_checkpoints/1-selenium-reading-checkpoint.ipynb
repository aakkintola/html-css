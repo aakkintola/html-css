{
 "cells": [
  {
   "cell_type": "markdown",
   "metadata": {},
   "source": [
    "# Scraping Craigslist"
   ]
  },
  {
   "cell_type": "markdown",
   "metadata": {},
   "source": [
    "### Introduction"
   ]
  },
  {
   "cell_type": "markdown",
   "metadata": {},
   "source": [
    "In this lesson, we'll learn how to work with Selenium to scrape craigslist. As we'll see, Selenium can allow us to perform many (if not all) of the operations that we can perform when navigating the web by hand.  Let's get started."
   ]
  },
  {
   "cell_type": "markdown",
   "metadata": {},
   "source": [
    "> For the code below to work, we should have Firefox installed on our computer.  It may also help to reference [this website](https://stackoverflow.com/questions/40208051/selenium-using-python-geckodriver-executable-needs-to-be-in-path)."
   ]
  },
  {
   "cell_type": "markdown",
   "metadata": {
    "tags": []
   },
   "source": [
    "### Selecting Elements"
   ]
  },
  {
   "cell_type": "markdown",
   "metadata": {},
   "source": [
    "Now if we visit the craigslist page, we can see that there is a lot of good information contained inside of the `result-info` box."
   ]
  },
  {
   "cell_type": "markdown",
   "metadata": {},
   "source": [
    "> <img src=\"./result-info-pic.png\" width=\"60%\">"
   ]
  },
  {
   "cell_type": "markdown",
   "metadata": {},
   "source": [
    "That is the box with text, and we can see that it contains information about the description, the price, number of bedrooms."
   ]
  },
  {
   "cell_type": "markdown",
   "metadata": {},
   "source": [
    "As promising as the information on the webpage looks, if we inspect the HTML, it actually contains more information."
   ]
  },
  {
   "cell_type": "markdown",
   "metadata": {},
   "source": [
    "> <img src=\"./info-html.png\" width=\"80%\">"
   ]
  },
  {
   "cell_type": "markdown",
   "metadata": {},
   "source": [
    "Looking above, we can see the number of bedrooms, square feet, the neighborhood, the price.  And each is given a separate tag.  \n",
    "\n",
    "So let's work to select the our result-info boxes from the page."
   ]
  },
  {
   "cell_type": "markdown",
   "metadata": {
    "tags": []
   },
   "source": [
    "### Loading up Selenium"
   ]
  },
  {
   "cell_type": "code",
   "execution_count": 6,
   "metadata": {},
   "outputs": [],
   "source": [
    "from selenium import webdriver\n",
    "\n",
    "driver = webdriver.Firefox()\n",
    "craigslist_url = \"https://newyork.craigslist.org/search/apa\"\n",
    "driver.get(craigslist_url)"
   ]
  },
  {
   "cell_type": "markdown",
   "metadata": {},
   "source": [
    "> The main tool that we're using above is the webdriver.  We initialize a Firefox webdriver object, and then make the request to craigslist.  This will open up the firefox brower to that page, if Firefox is installed."
   ]
  },
  {
   "cell_type": "markdown",
   "metadata": {},
   "source": [
    "After navigating to the webpage we can select elements.  We can do so with the `find_elements` method.  And then from there, we can use our `CSS_SELECTOR` to select elements using our knowledge of CSS.\n",
    "\n",
    "Taking another look at our result info box, we can see that we want to select each instance of HTML on the page that has a `result-info` class."
   ]
  },
  {
   "cell_type": "markdown",
   "metadata": {},
   "source": [
    "> <img src=\"./result-info-pic.png\" width=\"60%\">"
   ]
  },
  {
   "cell_type": "markdown",
   "metadata": {},
   "source": [
    "And we can select each of these elements with the following."
   ]
  },
  {
   "cell_type": "code",
   "execution_count": 14,
   "metadata": {},
   "outputs": [],
   "source": [
    "from selenium.webdriver.common.by import By\n",
    "driver.implicitly_wait(1)\n",
    "\n",
    "infos = driver.find_elements(By.CSS_SELECTOR, \".result-info\")"
   ]
  },
  {
   "cell_type": "markdown",
   "metadata": {},
   "source": [
    "So above, we first make sure that we wait one second, and then find the `result-info` boxes."
   ]
  },
  {
   "cell_type": "markdown",
   "metadata": {},
   "source": [
    "> We can see that infos now contains a list of WebElements."
   ]
  },
  {
   "cell_type": "code",
   "execution_count": 16,
   "metadata": {},
   "outputs": [
    {
     "data": {
      "text/plain": [
       "[<selenium.webdriver.remote.webelement.WebElement (session=\"868bb8c0-6599-414b-9078-df79cd094bec\", element=\"35d15aa1-9ffe-494e-bc9a-7e7db1d644c0\")>,\n",
       " <selenium.webdriver.remote.webelement.WebElement (session=\"868bb8c0-6599-414b-9078-df79cd094bec\", element=\"39417e0c-b769-4b03-b2e1-af89c87eef31\")>]"
      ]
     },
     "execution_count": 16,
     "metadata": {},
     "output_type": "execute_result"
    }
   ],
   "source": [
    "infos[:2]"
   ]
  },
  {
   "cell_type": "markdown",
   "metadata": {},
   "source": [
    "And each element contains some key information about the apartment listing."
   ]
  },
  {
   "cell_type": "markdown",
   "metadata": {},
   "source": [
    "> So let's just select the first WebElement."
   ]
  },
  {
   "cell_type": "code",
   "execution_count": 18,
   "metadata": {},
   "outputs": [],
   "source": [
    "first_info = infos[0]"
   ]
  },
  {
   "cell_type": "markdown",
   "metadata": {},
   "source": [
    "We can see that this represents the first of our info boxes, and contains information about the text, or entire HTML of that box."
   ]
  },
  {
   "cell_type": "markdown",
   "metadata": {},
   "source": [
    "> We can get the text with the following:"
   ]
  },
  {
   "cell_type": "code",
   "execution_count": 24,
   "metadata": {},
   "outputs": [
    {
     "data": {
      "text/plain": [
       "'Jan 4 *BRAND NEW 1BR APT*ASTORIA*3 BLK N!QUEEN LR!QUEEN BR!KIT!1/1/22 $1,800 1br - 650ft2 - (ASTORIA queens )'"
      ]
     },
     "execution_count": 24,
     "metadata": {},
     "output_type": "execute_result"
    }
   ],
   "source": [
    "first_info.text"
   ]
  },
  {
   "cell_type": "markdown",
   "metadata": {},
   "source": [
    "> Or if we would like to see all of the HTML of just that element, we can do so with the following, by uncommenting the following.\n",
    "\n",
    "> It's a lot of text so, comment it back when your done."
   ]
  },
  {
   "cell_type": "code",
   "execution_count": 23,
   "metadata": {},
   "outputs": [],
   "source": [
    "# first_info.get_attribute('innerHTML')"
   ]
  },
  {
   "cell_type": "markdown",
   "metadata": {},
   "source": [
    "### Digging Deeper"
   ]
  },
  {
   "cell_type": "markdown",
   "metadata": {},
   "source": [
    "Ok, so now that we have found the html elements that contain valuable information, we can move through to extract the specific information that we would like."
   ]
  },
  {
   "cell_type": "markdown",
   "metadata": {},
   "source": [
    "For example, let's take another look at the HTML of each info-box."
   ]
  },
  {
   "cell_type": "markdown",
   "metadata": {},
   "source": [
    "<img src=\"./info-html.png\" width=\"80%\">"
   ]
  },
  {
   "cell_type": "markdown",
   "metadata": {},
   "source": [
    "Let's try to just extract the information about the price.  Here's how we can do so."
   ]
  },
  {
   "cell_type": "code",
   "execution_count": 28,
   "metadata": {},
   "outputs": [
    {
     "data": {
      "text/plain": [
       "'$1,800'"
      ]
     },
     "execution_count": 28,
     "metadata": {},
     "output_type": "execute_result"
    }
   ],
   "source": [
    "price_info = first_info.find_element(By.CSS_SELECTOR, '.result-price')\n",
    "price_info.text"
   ]
  },
  {
   "cell_type": "markdown",
   "metadata": {},
   "source": [
    "So just inside of our `first_info` box, we find the `result-price`, and then from there we call the text method, to get the text."
   ]
  },
  {
   "cell_type": "markdown",
   "metadata": {},
   "source": [
    "### Looping Through Elements"
   ]
  },
  {
   "cell_type": "markdown",
   "metadata": {},
   "source": [
    "Once we know how to select information from one listing, we can loop through and select the information from multiple listings."
   ]
  },
  {
   "cell_type": "markdown",
   "metadata": {},
   "source": [
    "Here is all of the code."
   ]
  },
  {
   "cell_type": "code",
   "execution_count": 31,
   "metadata": {},
   "outputs": [],
   "source": [
    "from selenium import webdriver\n",
    "\n",
    "driver = webdriver.Firefox()\n",
    "craigslist_url = \"https://newyork.craigslist.org/search/apa\"\n",
    "driver.get(craigslist_url)\n",
    "\n",
    "driver.implicitly_wait(1)\n",
    "\n",
    "infos = driver.find_elements(By.CSS_SELECTOR, \".result-info\")\n",
    "listings = []\n",
    "for info in infos:\n",
    "    \n",
    "    date_el = info.find_element(By.CSS_SELECTOR, '.result-date')\n",
    "    title_el = info.find_element(By.CSS_SELECTOR, '.result-title')\n",
    "    hood_text = ''\n",
    "    housing_text = ''\n",
    "    hood_els = info.find_elements(By.CSS_SELECTOR, '.result-hood')\n",
    "    housing_els = info.find_elements(By.CSS_SELECTOR, '.housing')\n",
    "    if len(hood_els) > 0:\n",
    "        hood_text = hood_els[0].text\n",
    "    if len(housing_els) > 0:\n",
    "        housing_text = housing_els[0].text\n",
    "    listing_ob = {'date': date_el.text, 'title': title_el.text, \n",
    "                  'hood': hood_text, 'href': title_el.get_property('href'), \n",
    "                  'housing': housing_text}\n",
    "    listings.append(listing_ob)\n",
    "driver.close()"
   ]
  },
  {
   "cell_type": "markdown",
   "metadata": {},
   "source": [
    "From there, we can see the information that we collected."
   ]
  },
  {
   "cell_type": "code",
   "execution_count": 32,
   "metadata": {},
   "outputs": [
    {
     "data": {
      "text/plain": [
       "[{'date': 'Jan 4',\n",
       "  'title': 'SPACIOUS LAYOUT--FREE CABLE--LUXURY LIVING--',\n",
       "  'hood': '(Financial District)',\n",
       "  'href': 'https://newyork.craigslist.org/mnh/apa/d/new-york-spacious-layout-free-cable/7428564709.html',\n",
       "  'housing': '1br - 650ft2 -'},\n",
       " {'date': 'Jan 4',\n",
       "  'title': 'RENT STABILIZED--SWIMMING POOL --LUXURY LIVING --NO BROKER FEE',\n",
       "  'hood': '(Financial District)',\n",
       "  'href': 'https://newyork.craigslist.org/mnh/apa/d/new-york-rent-stabilized-swimming-pool/7428564207.html',\n",
       "  'housing': '3br -'}]"
      ]
     },
     "execution_count": 32,
     "metadata": {},
     "output_type": "execute_result"
    }
   ],
   "source": [
    "listings[:2]"
   ]
  },
  {
   "cell_type": "markdown",
   "metadata": {},
   "source": [
    "### Bonus Points "
   ]
  },
  {
   "cell_type": "markdown",
   "metadata": {},
   "source": [
    "Here's some other things that we can do with selenium.  We can click on a selected element with the `.click()` method.\n",
    "\n",
    "We can even fill out a form on a webpage by selecting elements and then using the `send_keys` method."
   ]
  },
  {
   "cell_type": "code",
   "execution_count": 190,
   "metadata": {},
   "outputs": [],
   "source": [
    "from selenium import webdriver\n",
    "from selenium.webdriver.common.keys import Keys\n",
    "\n",
    "driver = webdriver.Firefox()\n",
    "craigslist_url = \"https://newyork.craigslist.org/search/apa\"\n",
    "driver.get(craigslist_url)\n",
    "\n",
    "\n",
    "query_box = driver.find_elements_by_class_name('querybox')[0]\n",
    "search_box = query_box.find_elements_by_tag_name('input')[0]\n",
    "search_box.send_keys('3 br')\n",
    "\n",
    "query_box.find_elements_by_class_name('searchbtn')[0].click()"
   ]
  },
  {
   "cell_type": "markdown",
   "metadata": {},
   "source": [
    "### Summary"
   ]
  },
  {
   "cell_type": "markdown",
   "metadata": {},
   "source": [
    "In this lesson, we saw how to use Selenium to scrape information from webpages.  We started by navigating to a webpage with the following: \n",
    "```python\n",
    "driver = webdriver.Firefox\n",
    "driver.get(\"https://newyork.craigslist.org/search/apa\")\n",
    "```"
   ]
  },
  {
   "cell_type": "markdown",
   "metadata": {},
   "source": [
    "Then we selected elements with a call to:\n",
    "    \n",
    "```python\n",
    "query_box = driver.find_elements_by_class_name('querybox')[0]\n",
    "```\n",
    "\n",
    "From there, we saw that we could select child elements by calling `selected_element.find_elements_by...`.\n",
    "\n",
    "Finally, we saw that we can fill out forms using selenium with calls to `send_keys('text')` and `selected_element.click()`."
   ]
  },
  {
   "cell_type": "markdown",
   "metadata": {},
   "source": [
    "[Geckodriver](https://stackoverflow.com/questions/40208051/selenium-using-python-geckodriver-executable-needs-to-be-in-path)"
   ]
  }
 ],
 "metadata": {
  "kernelspec": {
   "display_name": "Python 3 (ipykernel)",
   "language": "python",
   "name": "python3"
  },
  "language_info": {
   "codemirror_mode": {
    "name": "ipython",
    "version": 3
   },
   "file_extension": ".py",
   "mimetype": "text/x-python",
   "name": "python",
   "nbconvert_exporter": "python",
   "pygments_lexer": "ipython3",
   "version": "3.9.7"
  }
 },
 "nbformat": 4,
 "nbformat_minor": 4
}
