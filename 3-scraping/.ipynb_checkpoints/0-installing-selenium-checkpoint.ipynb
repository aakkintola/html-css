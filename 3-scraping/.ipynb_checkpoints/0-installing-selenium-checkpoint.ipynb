{
 "cells": [
  {
   "cell_type": "markdown",
   "id": "6dd24fd6-a332-48ca-9421-88dfc1b87971",
   "metadata": {},
   "source": [
    "# Installing Selenium "
   ]
  },
  {
   "cell_type": "markdown",
   "id": "ba77fcee-18d6-4a6e-90e1-16b6600e0415",
   "metadata": {},
   "source": [
    "### Introduction"
   ]
  },
  {
   "cell_type": "markdown",
   "id": "dacebb2d-03cb-4655-8c5c-1b34da8dbd9b",
   "metadata": {},
   "source": [
    "In this lesson, we'll work through how to install and setup Selenium on a Mac."
   ]
  },
  {
   "cell_type": "markdown",
   "id": "b279cd90-5f91-458c-ae45-3f42b2a2554b",
   "metadata": {},
   "source": [
    "### Pre-Requisites"
   ]
  },
  {
   "cell_type": "markdown",
   "id": "12078869-c277-4e8c-9aa6-52a43cda6b20",
   "metadata": {},
   "source": [
    "Now Selenium will allow us to programatically visit and interact with webpages.  To perform this, we'll need to use a web browser. \n",
    "\n",
    "Begin by insalling Mozilla Firefox, which we can use with Selenium.\n",
    "\n",
    "> We can also use Selenium with Chrome, but it is slightly more difficult to install."
   ]
  },
  {
   "cell_type": "markdown",
   "id": "ff2f13cc-c3a1-44ea-9475-1d54f98f077d",
   "metadata": {},
   "source": [
    "You can download Mozilla by visiting the downloads [page here](https://www.mozilla.org/en-US/firefox/new/).\n",
    "\n",
    "Then doubleclick on the downloaded file, which you can likely find in the `Downloads` folder."
   ]
  },
  {
   "cell_type": "markdown",
   "id": "12a08eb3-da4a-467e-98f8-f1ff76dcfacf",
   "metadata": {},
   "source": [
    "> <img src=\"./firefox.png\" width=\"80%\">"
   ]
  },
  {
   "cell_type": "markdown",
   "id": "8a1a1376-a890-4e39-a60b-f70e027d2e72",
   "metadata": {},
   "source": [
    "And on a Mac, make sure to move Firefox into the Applications folder."
   ]
  },
  {
   "cell_type": "markdown",
   "id": "363a2443-d22d-4097-91f9-6a2269054c90",
   "metadata": {},
   "source": [
    "> <img src=\"./drag-to.png\" width=\"60%\">"
   ]
  },
  {
   "cell_type": "markdown",
   "id": "b0235cb8-f68b-43e6-8658-3eec627dba3a",
   "metadata": {},
   "source": [
    "### Installing the Driver"
   ]
  },
  {
   "cell_type": "markdown",
   "id": "d47f21c0-b2e3-4de1-a01b-bd906a1ed674",
   "metadata": {},
   "source": [
    "The next step is to install the webdriver.  The webdriver will interact with our Firefox browser.  "
   ]
  },
  {
   "cell_type": "markdown",
   "id": "3fc9c498-3268-4f00-9dec-ce5e4fcd2efc",
   "metadata": {},
   "source": [
    "Download the webdriver by going to the geckodriver [releases download page](https://github.com/mozilla/geckodriver/releases), and then scroll down until you see the following."
   ]
  },
  {
   "cell_type": "markdown",
   "id": "46924db3-c609-4469-9688-a595bc41349e",
   "metadata": {},
   "source": [
    "> <img src=\"./releases.png\" width=\"100%\">"
   ]
  },
  {
   "cell_type": "markdown",
   "id": "3a3377af-3efc-47de-a24f-3e0326ebbece",
   "metadata": {},
   "source": [
    "You can see different, versions of the software to install -- if you have a Mac, click on the file that ends with `macos.tar.gz`."
   ]
  },
  {
   "cell_type": "markdown",
   "id": "97c5f418-4e7e-4ffe-adb4-ef94b89af35f",
   "metadata": {},
   "source": [
    "You should see the file in your `Downloads` directory.  Double click on the downloaded tar file to extract it. "
   ]
  },
  {
   "cell_type": "markdown",
   "id": "9e45133a-4768-4b1f-bde5-59e72017c9ce",
   "metadata": {},
   "source": [
    "> <img src=\"./gecko-driver.png\" width=\"70%\">"
   ]
  },
  {
   "cell_type": "markdown",
   "id": "f9d75adc-3aab-4395-b5e0-84ad50e35a8f",
   "metadata": {},
   "source": [
    "Afterwards, you'll see the following."
   ]
  },
  {
   "cell_type": "markdown",
   "id": "394ee607-65c8-46fe-af8f-b427017af559",
   "metadata": {},
   "source": [
    "> <img src=\"./gecko.png\" width=\"70%\">"
   ]
  },
  {
   "cell_type": "markdown",
   "id": "9067d48b-e10b-47c8-be0e-99e627bcdfda",
   "metadata": {},
   "source": [
    "Next we need to move the Geckodriver to the correct folder -- `/usr/local/bin/`."
   ]
  },
  {
   "cell_type": "markdown",
   "id": "2b3f2012-db8b-40a6-8937-fb406c72266e",
   "metadata": {},
   "source": [
    "> If the geckodriver is in the Downloads directory, this can be done with something like the following:"
   ]
  },
  {
   "cell_type": "markdown",
   "id": "89d1aad7-88e7-4e62-a3c7-b7d092f930d9",
   "metadata": {},
   "source": [
    "`~/Downloads/geckodriver /usr/local/bin/`"
   ]
  },
  {
   "cell_type": "markdown",
   "id": "9df88110-6012-4e84-9dd1-403a6209510c",
   "metadata": {},
   "source": [
    "And then make the file executable with the following:"
   ]
  },
  {
   "cell_type": "markdown",
   "id": "9529c5eb-e7b2-4c18-a6a0-f8d318bcb1ef",
   "metadata": {},
   "source": [
    "`chmod +x /usr/local/bin/geckodriver`"
   ]
  },
  {
   "cell_type": "markdown",
   "id": "682e007f-d3dc-4e80-b730-3141e8a11a88",
   "metadata": {},
   "source": [
    "> By making it executable, we mean that we can run the file without using another program.  Contrast this with running a Python file where we run the file with something like `python index.py`.  Once a file is executable, it can be run by simply typing the name of the file."
   ]
  },
  {
   "cell_type": "markdown",
   "id": "a037e0bf-5b2c-4182-a176-c240e0fd649c",
   "metadata": {},
   "source": [
    "### Installing Selenium"
   ]
  },
  {
   "cell_type": "code",
   "execution_count": null,
   "id": "1f42bd2c-dd75-4f26-887a-c15ebf5a9ea7",
   "metadata": {},
   "outputs": [],
   "source": [
    "!pip install selenium"
   ]
  },
  {
   "cell_type": "markdown",
   "id": "7dd8cef4-8bda-4381-aff0-f3e01c6dada1",
   "metadata": {},
   "source": [
    "Now try to use the webdriver by with the following code -- we still may see an error."
   ]
  },
  {
   "cell_type": "code",
   "execution_count": 10,
   "id": "6c8e9c6a-4e1d-45d7-8ab9-b7c154390ed6",
   "metadata": {},
   "outputs": [],
   "source": [
    "from selenium import webdriver\n",
    "\n",
    "driver = webdriver.Firefox()\n",
    "driver.get(\"https://google.com\")"
   ]
  },
  {
   "cell_type": "markdown",
   "id": "f9e47fd5-37a2-4b52-b796-c541aaef5a12",
   "metadata": {},
   "source": [
    "If the above opens up `Google`, then you are in good shape.  However, you may see the following issue."
   ]
  },
  {
   "cell_type": "markdown",
   "id": "fc7cf650-4ad7-4cd4-b1d0-5464063e892b",
   "metadata": {},
   "source": [
    "<img src=\"./geckodriver-error.png\" width=\"50%\">"
   ]
  },
  {
   "cell_type": "markdown",
   "id": "4387648a-744d-4ede-b634-0f84556a6b0a",
   "metadata": {},
   "source": [
    "To resolve this, you can run the following in your terminal."
   ]
  },
  {
   "cell_type": "markdown",
   "id": "3f1c23bd-3704-4091-9358-5332bae8fcb0",
   "metadata": {},
   "source": [
    "```bash\n",
    "xattr -r -d com.apple.quarantine /usr/local/bin/geckodriver\n",
    "```"
   ]
  },
  {
   "cell_type": "markdown",
   "id": "9f89d7c2-b293-4d5f-afaf-10a649d3a658",
   "metadata": {},
   "source": [
    "Then try to run the code we had above again."
   ]
  },
  {
   "cell_type": "code",
   "execution_count": null,
   "id": "ae433239-c596-4fd3-a881-1ee096067415",
   "metadata": {},
   "outputs": [],
   "source": [
    "from selenium import webdriver\n",
    "\n",
    "driver = webdriver.Firefox()\n",
    "driver.get(\"https://google.com\")"
   ]
  },
  {
   "cell_type": "markdown",
   "id": "5e155e72-0ff5-41a9-9e9d-513f847bfb7a",
   "metadata": {},
   "source": [
    "If it works, then you have Selenium properly installed."
   ]
  }
 ],
 "metadata": {
  "kernelspec": {
   "display_name": "Python 3 (ipykernel)",
   "language": "python",
   "name": "python3"
  },
  "language_info": {
   "codemirror_mode": {
    "name": "ipython",
    "version": 3
   },
   "file_extension": ".py",
   "mimetype": "text/x-python",
   "name": "python",
   "nbconvert_exporter": "python",
   "pygments_lexer": "ipython3",
   "version": "3.9.7"
  }
 },
 "nbformat": 4,
 "nbformat_minor": 5
}
