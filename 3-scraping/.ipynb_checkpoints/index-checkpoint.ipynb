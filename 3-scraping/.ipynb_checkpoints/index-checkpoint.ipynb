{
 "cells": [
  {
   "cell_type": "markdown",
   "metadata": {},
   "source": [
    "# Scraping Craigslist"
   ]
  },
  {
   "cell_type": "markdown",
   "metadata": {},
   "source": [
    "### Introduction"
   ]
  },
  {
   "cell_type": "markdown",
   "metadata": {},
   "source": [
    "In this lesson, we'll learn how to work with Selenium to scrape craigslist. As we'll see, Selenium can allow us to perform many (if not all) of the operations that we can perform when navigating the web by hand.  Let's get started."
   ]
  },
  {
   "cell_type": "markdown",
   "metadata": {},
   "source": [
    "> For the code below to work, we should have Firefox installed on our computer.  It may also help to reference [this website](https://stackoverflow.com/questions/40208051/selenium-using-python-geckodriver-executable-needs-to-be-in-path)."
   ]
  },
  {
   "cell_type": "markdown",
   "metadata": {},
   "source": [
    "### Loading up Selenium"
   ]
  },
  {
   "cell_type": "markdown",
   "metadata": {},
   "source": [
    "To get started, let's load up selenium, and get it to open up a craigslist. We can do so with the following code."
   ]
  },
  {
   "cell_type": "code",
   "execution_count": 181,
   "metadata": {},
   "outputs": [],
   "source": [
    "from selenium import webdriver\n",
    "\n",
    "driver = webdriver.Firefox()\n",
    "craigslist_url = \"https://newyork.craigslist.org/search/apa\"\n",
    "driver.get(craigslist_url)"
   ]
  },
  {
   "cell_type": "markdown",
   "metadata": {},
   "source": [
    "The main tool that we're using above is the webdriver.  We initialize a Firefox webdriver object, and then make the request to craigslist.  This will open up the firefox brower to that page, if Firefox is installed."
   ]
  },
  {
   "cell_type": "markdown",
   "metadata": {},
   "source": [
    "### Selecting Elements"
   ]
  },
  {
   "cell_type": "markdown",
   "metadata": {},
   "source": [
    "After navigating to the webpage we can select elements.  We can do so with the `find_elements_by` methods.  For example, here let's `find_elements_by_class_name`.  We can use this to find information about apartment listings."
   ]
  },
  {
   "cell_type": "markdown",
   "metadata": {},
   "source": [
    "We'll first make sure that we wait one second, and then find the `result-info` boxes."
   ]
  },
  {
   "cell_type": "code",
   "execution_count": null,
   "metadata": {},
   "outputs": [],
   "source": [
    "driver.implicitly_wait(1)\n",
    "\n",
    "infos = driver.find_elements_by_class_name(\"result-info\")"
   ]
  },
  {
   "cell_type": "markdown",
   "metadata": {},
   "source": [
    "In Craigslist, this contains some key information about the apartment listing."
   ]
  },
  {
   "cell_type": "markdown",
   "metadata": {},
   "source": [
    "<img src=\"./result-info-box.png\" width=\"40%\">"
   ]
  },
  {
   "cell_type": "code",
   "execution_count": 182,
   "metadata": {},
   "outputs": [],
   "source": [
    "first_info = infos[0]"
   ]
  },
  {
   "cell_type": "markdown",
   "metadata": {},
   "source": [
    "So our first step is to select the first of the `result-info` boxes."
   ]
  },
  {
   "cell_type": "markdown",
   "metadata": {},
   "source": [
    "From here, there are html elements inside of our first element that can tell us the price, the neighborhood, and the title.  We can get these children elements by calling either `find_elements_by_class_name` or `find_element_by_class_name`. "
   ]
  },
  {
   "cell_type": "markdown",
   "metadata": {},
   "source": [
    "```python\n",
    "date_el = first_info.find_element_by_class_name('result-date')\n",
    "title_el = first_info.find_element_by_class_name('result-title')\n",
    "```"
   ]
  },
  {
   "cell_type": "markdown",
   "metadata": {},
   "source": [
    "And we can get information from these selected elements by calling the `text` method.\n",
    "\n",
    "```python\n",
    "date_el.text\n",
    "```"
   ]
  },
  {
   "cell_type": "markdown",
   "metadata": {},
   "source": [
    "### Looping Through Elements"
   ]
  },
  {
   "cell_type": "markdown",
   "metadata": {},
   "source": [
    "Once we know how to select information from one listing, we can loop through and select the information from multiple listings."
   ]
  },
  {
   "cell_type": "markdown",
   "metadata": {},
   "source": [
    "Here is all of the code."
   ]
  },
  {
   "cell_type": "code",
   "execution_count": null,
   "metadata": {},
   "outputs": [],
   "source": [
    "from selenium import webdriver\n",
    "\n",
    "driver = webdriver.Firefox()\n",
    "craigslist_url = \"https://newyork.craigslist.org/search/apa\"\n",
    "driver.get(craigslist_url)\n",
    "\n",
    "driver.implicitly_wait(1)\n",
    "\n",
    "infos = driver.find_elements_by_class_name(\"result-info\")\n",
    "listings = []\n",
    "for info in infos:\n",
    "    \n",
    "    date_el = info.find_element_by_class_name('result-date')\n",
    "    title_el = info.find_element_by_class_name('result-title')\n",
    "    hood_text = ''\n",
    "    housing_text = ''\n",
    "    hood_els = info.find_elements_by_class_name(\"result-hood\")\n",
    "    housing_els = info.find_elements_by_class_name(\"housing\")\n",
    "    if len(hood_els) > 0:\n",
    "        hood_text = hood_els[0].text\n",
    "    if len(housing_els) > 0:\n",
    "        housing_text = housing_els[0].text\n",
    "    listing_ob = {'date': date_el.text, 'title': title_el.text, \n",
    "                  'hood': hood_text, 'href': title_el.get_property('href'), \n",
    "                  'housing': housing_text}\n",
    "    listings.append(listing_ob)\n",
    "driver.close()"
   ]
  },
  {
   "cell_type": "markdown",
   "metadata": {},
   "source": [
    "### Bonus Points "
   ]
  },
  {
   "cell_type": "markdown",
   "metadata": {},
   "source": [
    "Here's some other things that we can do with selenium.  We can click on a selected element with the `.click()` method.\n",
    "\n",
    "We can even fill out a form on a webpage by selecting elements and then using the `send_keys` method."
   ]
  },
  {
   "cell_type": "code",
   "execution_count": 190,
   "metadata": {},
   "outputs": [],
   "source": [
    "from selenium import webdriver\n",
    "from selenium.webdriver.common.keys import Keys\n",
    "\n",
    "driver = webdriver.Firefox()\n",
    "craigslist_url = \"https://newyork.craigslist.org/search/apa\"\n",
    "driver.get(craigslist_url)\n",
    "\n",
    "\n",
    "query_box = driver.find_elements_by_class_name('querybox')[0]\n",
    "search_box = query_box.find_elements_by_tag_name('input')[0]\n",
    "search_box.send_keys('3 br')\n",
    "\n",
    "query_box.find_elements_by_class_name('searchbtn')[0].click()"
   ]
  },
  {
   "cell_type": "markdown",
   "metadata": {},
   "source": [
    "### Summary"
   ]
  },
  {
   "cell_type": "markdown",
   "metadata": {},
   "source": [
    "In this lesson, we saw how to use Selenium to scrape information from webpages.  We started by navigating to a webpage with the following: \n",
    "```python\n",
    "driver = webdriver.Firefox\n",
    "driver.get(\"https://newyork.craigslist.org/search/apa\")\n",
    "```"
   ]
  },
  {
   "cell_type": "markdown",
   "metadata": {},
   "source": [
    "Then we selected elements with a call to:\n",
    "    \n",
    "```python\n",
    "query_box = driver.find_elements_by_class_name('querybox')[0]\n",
    "```\n",
    "\n",
    "From there, we saw that we could select child elements by calling `selected_element.find_elements_by...`.\n",
    "\n",
    "Finally, we saw that we can fill out forms using selenium with calls to `send_keys('text')` and `selected_element.click()`."
   ]
  },
  {
   "cell_type": "markdown",
   "metadata": {},
   "source": [
    "[Geckodriver](https://stackoverflow.com/questions/40208051/selenium-using-python-geckodriver-executable-needs-to-be-in-path)"
   ]
  }
 ],
 "metadata": {
  "kernelspec": {
   "display_name": "Python 3",
   "language": "python",
   "name": "python3"
  },
  "language_info": {
   "codemirror_mode": {
    "name": "ipython",
    "version": 3
   },
   "file_extension": ".py",
   "mimetype": "text/x-python",
   "name": "python",
   "nbconvert_exporter": "python",
   "pygments_lexer": "ipython3",
   "version": "3.8.3"
  }
 },
 "nbformat": 4,
 "nbformat_minor": 4
}
